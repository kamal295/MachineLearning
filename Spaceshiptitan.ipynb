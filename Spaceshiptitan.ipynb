{
 "cells": [
  {
   "cell_type": "code",
   "execution_count": 173,
   "id": "14e9fcdd",
   "metadata": {},
   "outputs": [],
   "source": []
  },
  {
   "cell_type": "markdown",
   "id": "672160cf",
   "metadata": {},
   "source": [
    "SPACESHIP TITANIC"
   ]
  },
  {
   "cell_type": "markdown",
   "id": "f19641c5",
   "metadata": {},
   "source": [
    "Dataset Description\n",
    "\n",
    "In this competition your task is to predict whether a passenger was transported to an alternate dimension during the Spaceship Titanic's collision with the spacetime anomaly. To help you make these predictions, you're given a set of personal records recovered from the ship's damaged computer system.\n",
    "\n",
    "File and Data Field Descriptions\n",
    "\n",
    "train.csv - Personal records for about two-thirds (~8700) of the passengers, to be used as training data.\n",
    "    \n",
    "PassengerId - A unique Id for each passenger. Each Id takes the form gggg_pp where gggg indicates a group the passenger is travelling with and pp is their number within the group. People in a group are often family members, but not always.\n",
    "\n",
    "HomePlanet - The planet the passenger departed from, typically their planet of permanent residence.\n",
    "\n",
    "CryoSleep - Indicates whether the passenger elected to be put into suspended animation for the duration of the voyage. Passengers in cryosleep are confined to their cabins.\n",
    "\n",
    "Cabin - The cabin number where the passenger is staying. Takes the form deck/num/side, where side can be either P for Port or S for Starboard.\n",
    "\n",
    "Destination - The planet the passenger will be debarking to.\n",
    "\n",
    "Age - The age of the passenger.\n",
    "\n",
    "VIP - Whether the passenger has paid for special VIP service during the voyage.\n",
    "\n",
    "RoomService, FoodCourt, ShoppingMall, Spa, VRDeck - Amount the passenger has billed at each of the Spaceship Titanic's many luxury amenities.\n",
    "\n",
    "Name - The first and last names of the passenger.\n",
    "\n",
    "Transported - Whether the passenger was transported to another dimension. This is the target, the column you are trying to predict.\n",
    "\n",
    "test.csv - Personal records for the remaining one-third (~4300) of the passengers, to be used as test data. Your task is to predict the value of Transported for the passengers in this set.\n",
    "\n",
    "sample_submission.csv - A submission file in the correct format.\n",
    "\n",
    "PassengerId - Id for each passenger in the test set.\n",
    "\n",
    "Transported - The target. For each passenger, predict either True or False"
   ]
  },
  {
   "cell_type": "code",
   "execution_count": 198,
   "id": "9c34380c",
   "metadata": {},
   "outputs": [],
   "source": [
    "import pandas as pd\n",
    "import numpy as np\n",
    "import seaborn as sns\n",
    "import matplotlib.pyplot as plt\n",
    "import xgboost as xgb\n",
    "from xgboost import XGBClassifier\n",
    "from sklearn.svm import SVC\n",
    "from sklearn.pipeline import Pipeline\n",
    "from sklearn.naive_bayes import GaussianNB\n",
    "from sklearn.compose import ColumnTransformer\n",
    "from sklearn.tree import DecisionTreeClassifier\n",
    "from sklearn.neighbors import KNeighborsClassifier\n",
    "from sklearn.linear_model import LogisticRegression\n",
    "from sklearn.ensemble import RandomForestClassifier\n",
    "from sklearn.metrics import accuracy_score,log_loss\n",
    "from sklearn.model_selection import train_test_split\n",
    "from sklearn.preprocessing import LabelEncoder,StandardScaler,MinMaxScaler\n",
    "from sklearn.metrics import classification_report,confusion_matrix,RocCurveDisplay\n",
    "import itertools\n",
    "import warnings                   \n",
    "warnings.filterwarnings('ignore')\n",
    "pd.options.display.float_format = '{:.2f}'.format"
   ]
  },
  {
   "cell_type": "code",
   "execution_count": 174,
   "id": "61c75d81",
   "metadata": {},
   "outputs": [],
   "source": [
    "df=pd.read_csv(\"spc_train.csv\")"
   ]
  },
  {
   "cell_type": "code",
   "execution_count": 175,
   "id": "3fca8f1c",
   "metadata": {},
   "outputs": [
    {
     "data": {
      "text/html": [
       "<div>\n",
       "<style scoped>\n",
       "    .dataframe tbody tr th:only-of-type {\n",
       "        vertical-align: middle;\n",
       "    }\n",
       "\n",
       "    .dataframe tbody tr th {\n",
       "        vertical-align: top;\n",
       "    }\n",
       "\n",
       "    .dataframe thead th {\n",
       "        text-align: right;\n",
       "    }\n",
       "</style>\n",
       "<table border=\"1\" class=\"dataframe\">\n",
       "  <thead>\n",
       "    <tr style=\"text-align: right;\">\n",
       "      <th></th>\n",
       "      <th>PassengerId</th>\n",
       "      <th>HomePlanet</th>\n",
       "      <th>CryoSleep</th>\n",
       "      <th>Cabin</th>\n",
       "      <th>Destination</th>\n",
       "      <th>Age</th>\n",
       "      <th>VIP</th>\n",
       "      <th>RoomService</th>\n",
       "      <th>FoodCourt</th>\n",
       "      <th>ShoppingMall</th>\n",
       "      <th>Spa</th>\n",
       "      <th>VRDeck</th>\n",
       "      <th>Name</th>\n",
       "      <th>Transported</th>\n",
       "    </tr>\n",
       "  </thead>\n",
       "  <tbody>\n",
       "    <tr>\n",
       "      <th>0</th>\n",
       "      <td>0001_01</td>\n",
       "      <td>Europa</td>\n",
       "      <td>False</td>\n",
       "      <td>B/0/P</td>\n",
       "      <td>TRAPPIST-1e</td>\n",
       "      <td>39.0</td>\n",
       "      <td>False</td>\n",
       "      <td>0.0</td>\n",
       "      <td>0.0</td>\n",
       "      <td>0.0</td>\n",
       "      <td>0.0</td>\n",
       "      <td>0.0</td>\n",
       "      <td>Maham Ofracculy</td>\n",
       "      <td>False</td>\n",
       "    </tr>\n",
       "    <tr>\n",
       "      <th>1</th>\n",
       "      <td>0002_01</td>\n",
       "      <td>Earth</td>\n",
       "      <td>False</td>\n",
       "      <td>F/0/S</td>\n",
       "      <td>TRAPPIST-1e</td>\n",
       "      <td>24.0</td>\n",
       "      <td>False</td>\n",
       "      <td>109.0</td>\n",
       "      <td>9.0</td>\n",
       "      <td>25.0</td>\n",
       "      <td>549.0</td>\n",
       "      <td>44.0</td>\n",
       "      <td>Juanna Vines</td>\n",
       "      <td>True</td>\n",
       "    </tr>\n",
       "    <tr>\n",
       "      <th>2</th>\n",
       "      <td>0003_01</td>\n",
       "      <td>Europa</td>\n",
       "      <td>False</td>\n",
       "      <td>A/0/S</td>\n",
       "      <td>TRAPPIST-1e</td>\n",
       "      <td>58.0</td>\n",
       "      <td>True</td>\n",
       "      <td>43.0</td>\n",
       "      <td>3576.0</td>\n",
       "      <td>0.0</td>\n",
       "      <td>6715.0</td>\n",
       "      <td>49.0</td>\n",
       "      <td>Altark Susent</td>\n",
       "      <td>False</td>\n",
       "    </tr>\n",
       "    <tr>\n",
       "      <th>3</th>\n",
       "      <td>0003_02</td>\n",
       "      <td>Europa</td>\n",
       "      <td>False</td>\n",
       "      <td>A/0/S</td>\n",
       "      <td>TRAPPIST-1e</td>\n",
       "      <td>33.0</td>\n",
       "      <td>False</td>\n",
       "      <td>0.0</td>\n",
       "      <td>1283.0</td>\n",
       "      <td>371.0</td>\n",
       "      <td>3329.0</td>\n",
       "      <td>193.0</td>\n",
       "      <td>Solam Susent</td>\n",
       "      <td>False</td>\n",
       "    </tr>\n",
       "    <tr>\n",
       "      <th>4</th>\n",
       "      <td>0004_01</td>\n",
       "      <td>Earth</td>\n",
       "      <td>False</td>\n",
       "      <td>F/1/S</td>\n",
       "      <td>TRAPPIST-1e</td>\n",
       "      <td>16.0</td>\n",
       "      <td>False</td>\n",
       "      <td>303.0</td>\n",
       "      <td>70.0</td>\n",
       "      <td>151.0</td>\n",
       "      <td>565.0</td>\n",
       "      <td>2.0</td>\n",
       "      <td>Willy Santantines</td>\n",
       "      <td>True</td>\n",
       "    </tr>\n",
       "  </tbody>\n",
       "</table>\n",
       "</div>"
      ],
      "text/plain": [
       "  PassengerId HomePlanet CryoSleep  Cabin  Destination   Age    VIP  \\\n",
       "0     0001_01     Europa     False  B/0/P  TRAPPIST-1e  39.0  False   \n",
       "1     0002_01      Earth     False  F/0/S  TRAPPIST-1e  24.0  False   \n",
       "2     0003_01     Europa     False  A/0/S  TRAPPIST-1e  58.0   True   \n",
       "3     0003_02     Europa     False  A/0/S  TRAPPIST-1e  33.0  False   \n",
       "4     0004_01      Earth     False  F/1/S  TRAPPIST-1e  16.0  False   \n",
       "\n",
       "   RoomService  FoodCourt  ShoppingMall     Spa  VRDeck               Name  \\\n",
       "0          0.0        0.0           0.0     0.0     0.0    Maham Ofracculy   \n",
       "1        109.0        9.0          25.0   549.0    44.0       Juanna Vines   \n",
       "2         43.0     3576.0           0.0  6715.0    49.0      Altark Susent   \n",
       "3          0.0     1283.0         371.0  3329.0   193.0       Solam Susent   \n",
       "4        303.0       70.0         151.0   565.0     2.0  Willy Santantines   \n",
       "\n",
       "   Transported  \n",
       "0        False  \n",
       "1         True  \n",
       "2        False  \n",
       "3        False  \n",
       "4         True  "
      ]
     },
     "execution_count": 175,
     "metadata": {},
     "output_type": "execute_result"
    }
   ],
   "source": [
    "df.head()"
   ]
  },
  {
   "cell_type": "code",
   "execution_count": 176,
   "id": "a4524b10",
   "metadata": {},
   "outputs": [
    {
     "data": {
      "text/plain": [
       "(8693, 14)"
      ]
     },
     "execution_count": 176,
     "metadata": {},
     "output_type": "execute_result"
    }
   ],
   "source": [
    "df.shape"
   ]
  },
  {
   "cell_type": "code",
   "execution_count": 177,
   "id": "b216813b",
   "metadata": {},
   "outputs": [
    {
     "data": {
      "text/plain": [
       "PassengerId       0\n",
       "HomePlanet      201\n",
       "CryoSleep       217\n",
       "Cabin           199\n",
       "Destination     182\n",
       "Age             179\n",
       "VIP             203\n",
       "RoomService     181\n",
       "FoodCourt       183\n",
       "ShoppingMall    208\n",
       "Spa             183\n",
       "VRDeck          188\n",
       "Name            200\n",
       "Transported       0\n",
       "dtype: int64"
      ]
     },
     "execution_count": 177,
     "metadata": {},
     "output_type": "execute_result"
    }
   ],
   "source": [
    "df.isnull().sum()"
   ]
  },
  {
   "cell_type": "code",
   "execution_count": 178,
   "id": "62c41a3d",
   "metadata": {},
   "outputs": [],
   "source": [
    "df.dropna(inplace=True)"
   ]
  },
  {
   "cell_type": "code",
   "execution_count": 179,
   "id": "8a3177f9",
   "metadata": {},
   "outputs": [
    {
     "data": {
      "text/plain": [
       "0"
      ]
     },
     "execution_count": 179,
     "metadata": {},
     "output_type": "execute_result"
    }
   ],
   "source": [
    "df.duplicated().sum()"
   ]
  },
  {
   "cell_type": "code",
   "execution_count": 180,
   "id": "f72fa33f",
   "metadata": {},
   "outputs": [
    {
     "data": {
      "text/plain": [
       "(6606, 14)"
      ]
     },
     "execution_count": 180,
     "metadata": {},
     "output_type": "execute_result"
    }
   ],
   "source": [
    "df.shape"
   ]
  },
  {
   "cell_type": "code",
   "execution_count": 181,
   "id": "f8ff1940",
   "metadata": {},
   "outputs": [
    {
     "name": "stdout",
     "output_type": "stream",
     "text": [
      "PassengerId \n",
      "\n",
      "['0001_01' '0002_01' '0003_01' ... '9279_01' '9280_01' '9280_02'] \n",
      "\n",
      "6606 \n",
      "\n",
      "HomePlanet \n",
      "\n",
      "['Europa' 'Earth' 'Mars'] \n",
      "\n",
      "3 \n",
      "\n",
      "CryoSleep \n",
      "\n",
      "[False True] \n",
      "\n",
      "2 \n",
      "\n",
      "Cabin \n",
      "\n",
      "['B/0/P' 'F/0/S' 'A/0/S' ... 'G/1499/S' 'G/1500/S' 'E/608/S'] \n",
      "\n",
      "5305 \n",
      "\n",
      "Destination \n",
      "\n",
      "['TRAPPIST-1e' 'PSO J318.5-22' '55 Cancri e'] \n",
      "\n",
      "3 \n",
      "\n",
      "Age \n",
      "\n",
      "[39. 24. 58. 33. 16. 44. 26. 35. 14. 45. 32. 48. 28.  0.  1. 49. 10.  7.\n",
      " 15. 34. 43. 47.  2. 23. 20. 17. 55.  4. 21. 56. 25. 38. 27. 36. 22. 62.\n",
      " 18. 19. 37. 42. 13. 40.  3. 54.  9.  6. 29. 64. 67. 61. 50. 31.  8. 51.\n",
      " 11. 41. 30. 46. 60. 63. 57.  5. 79. 68. 59. 74. 12. 65. 53. 71. 52. 75.\n",
      " 76. 78. 70. 73. 66. 69. 72. 77.] \n",
      "\n",
      "80 \n",
      "\n",
      "VIP \n",
      "\n",
      "[False True] \n",
      "\n",
      "2 \n",
      "\n",
      "RoomService \n",
      "\n",
      "[   0.  109.   43. ... 1003. 8586.  745.] \n",
      "\n",
      "1093 \n",
      "\n",
      "FoodCourt \n",
      "\n",
      "[   0.    9. 3576. ... 1146. 6819. 4688.] \n",
      "\n",
      "1293 \n",
      "\n",
      "ShoppingMall \n",
      "\n",
      "[0.0000e+00 2.5000e+01 3.7100e+02 1.5100e+02 3.0000e+00 1.7000e+01\n",
      " 5.8900e+02 1.1230e+03 6.5000e+01 1.2000e+01 1.0000e+00 1.3600e+02\n",
      " 8.1000e+01 1.4110e+03 4.5000e+01 1.8000e+02 1.9380e+03 3.3740e+03\n",
      " 1.4800e+02 1.9700e+02 4.4600e+02 5.0000e+00 7.3800e+02 1.0180e+03\n",
      " 1.2950e+03 3.1000e+01 6.7000e+02 9.5700e+02 5.2600e+02 8.7000e+01\n",
      " 8.0400e+02 4.2900e+02 4.9000e+01 2.9600e+02 9.0000e+00 7.3000e+02\n",
      " 2.1000e+02 1.0000e+01 4.8000e+01 1.6000e+01 1.6100e+02 6.7300e+02\n",
      " 4.2600e+02 4.0100e+02 8.6700e+02 7.1900e+02 6.6000e+01 1.3700e+02\n",
      " 3.0700e+02 1.1900e+02 1.8800e+02 3.0100e+02 2.2100e+02 6.6500e+02\n",
      " 2.5600e+02 7.9600e+02 2.8700e+02 5.4100e+02 4.0800e+02 3.1300e+02\n",
      " 5.9200e+02 1.2800e+02 2.0780e+03 2.9000e+01 3.2000e+01 8.8000e+01\n",
      " 1.3240e+03 1.5000e+01 2.5900e+02 1.3590e+03 1.5700e+02 7.4000e+01\n",
      " 2.5100e+02 2.1100e+02 6.3400e+02 1.4340e+03 2.0200e+02 2.9750e+03\n",
      " 4.5300e+02 3.3000e+01 4.4470e+03 5.5800e+02 7.8600e+02 4.0000e+00\n",
      " 7.0000e+00 6.0000e+00 5.9100e+02 8.8100e+02 3.5600e+02 5.5200e+02\n",
      " 3.6000e+01 5.2000e+01 1.1160e+03 1.0100e+02 5.9520e+03 2.6000e+01\n",
      " 2.2000e+01 8.4000e+02 1.0200e+02 7.9500e+02 7.4700e+02 1.8200e+02\n",
      " 8.6300e+02 2.0000e+00 5.4400e+02 3.8000e+01 1.7490e+03 4.7000e+01\n",
      " 1.1000e+01 4.1000e+01 7.5000e+02 1.7330e+03 3.8400e+02 3.1600e+02\n",
      " 4.7900e+02 8.3800e+02 8.3100e+02 7.0400e+02 2.6600e+02 5.8000e+02\n",
      " 3.3200e+02 4.0200e+02 6.1200e+02 3.1000e+02 2.1000e+01 5.2100e+02\n",
      " 3.7000e+01 6.0100e+02 1.0920e+03 6.1600e+02 5.5100e+02 4.6000e+01\n",
      " 8.2600e+02 9.0800e+02 1.8000e+01 5.0000e+01 8.2000e+01 1.4100e+02\n",
      " 1.0870e+03 7.0800e+02 7.3600e+02 2.5200e+02 9.7000e+01 7.8300e+02\n",
      " 1.9520e+03 2.2600e+02 6.8900e+02 7.2200e+02 3.2200e+02 4.8400e+02\n",
      " 5.5000e+01 6.7900e+02 3.2500e+02 1.3990e+03 8.7000e+02 1.0000e+02\n",
      " 7.0100e+02 5.1000e+01 7.1400e+02 3.4300e+02 2.6950e+03 7.1000e+01\n",
      " 1.9000e+01 4.4400e+02 5.4000e+02 7.1600e+02 2.5520e+03 4.2100e+02\n",
      " 9.3000e+01 9.8400e+02 1.6260e+03 2.3400e+02 8.7100e+02 5.5500e+02\n",
      " 1.3830e+03 8.0000e+00 8.3400e+02 3.2300e+02 4.4800e+02 1.3000e+01\n",
      " 4.9000e+02 3.5000e+01 9.8000e+01 8.8000e+02 7.1500e+02 1.2200e+02\n",
      " 1.0600e+02 1.9730e+03 8.4000e+01 6.2000e+01 1.5260e+03 8.2800e+02\n",
      " 2.7000e+01 6.0000e+01 6.4200e+02 2.9800e+02 9.9000e+01 2.6300e+02\n",
      " 7.5600e+02 6.1240e+03 3.6300e+02 1.6320e+03 8.8400e+02 7.6000e+01\n",
      " 1.0950e+03 7.2000e+01 9.2600e+02 2.7900e+02 6.0000e+02 6.5400e+02\n",
      " 4.6400e+02 3.7000e+03 7.5200e+02 5.1300e+02 8.4300e+02 1.9500e+02\n",
      " 9.0700e+02 1.2500e+03 1.0610e+03 3.3010e+03 4.3100e+02 8.9600e+02\n",
      " 2.8900e+02 6.1900e+02 4.8200e+02 1.0840e+03 2.6800e+02 6.7500e+02\n",
      " 4.8170e+03 1.0900e+02 2.9200e+02 2.3000e+01 3.4000e+02 2.6000e+02\n",
      " 1.9300e+02 1.1280e+03 5.6100e+02 1.2600e+02 9.4600e+02 5.3700e+02\n",
      " 6.9000e+02 3.7700e+02 2.8000e+02 2.1200e+02 3.3400e+02 5.2900e+02\n",
      " 2.8000e+01 1.0130e+03 1.2430e+03 2.4300e+02 1.7210e+03 2.1160e+03\n",
      " 2.2800e+02 3.9000e+01 2.1190e+03 4.2200e+02 7.4400e+02 9.1300e+02\n",
      " 4.9700e+02 6.8000e+01 6.8300e+02 1.3600e+03 5.3300e+02 6.6100e+02\n",
      " 4.3000e+01 1.4600e+02 3.7200e+02 1.4870e+03 7.9800e+02 9.6500e+02\n",
      " 8.8500e+02 2.1800e+02 1.4700e+02 2.1300e+02 2.0800e+02 1.1550e+03\n",
      " 2.0100e+02 6.8700e+02 5.1600e+02 1.2470e+03 8.9000e+01 6.4600e+02\n",
      " 1.2460e+03 4.7300e+02 4.9900e+02 3.8700e+02 4.9600e+02 1.2400e+02\n",
      " 8.0900e+02 2.6610e+03 4.5400e+02 2.5700e+02 8.6400e+02 6.5700e+02\n",
      " 9.7400e+02 1.0810e+03 1.7890e+03 1.7600e+02 7.1800e+02 1.5800e+02\n",
      " 3.9700e+02 3.4500e+02 3.4000e+01 2.8800e+02 1.0700e+02 1.5080e+03\n",
      " 2.9500e+02 1.4760e+03 7.8700e+02 5.3000e+01 4.8990e+03 6.7700e+02\n",
      " 9.4000e+01 5.6000e+01 6.9300e+02 1.3900e+02 3.5200e+02 8.0200e+02\n",
      " 2.4900e+02 5.4800e+02 1.0510e+03 5.0300e+02 2.6400e+03 8.7200e+02\n",
      " 8.0100e+02 2.3150e+03 6.1100e+02 7.3400e+02 1.4040e+03 1.0580e+03\n",
      " 4.8000e+02 6.9800e+02 1.6100e+03 6.1000e+01 2.0270e+03 9.9100e+02\n",
      " 9.0200e+02 5.6000e+02 1.8700e+02 8.5700e+02 6.7100e+02 7.4100e+02\n",
      " 4.6900e+02 9.2100e+02 8.0000e+01 1.4000e+01 1.7100e+02 1.8500e+02\n",
      " 6.4700e+02 1.2570e+03 4.7000e+02 1.1270e+03 2.5590e+03 4.3500e+02\n",
      " 7.0000e+01 3.8100e+02 9.5000e+01 7.9100e+02 6.2600e+02 3.8800e+02\n",
      " 2.0000e+01 5.7000e+01 6.4800e+02 7.8000e+01 9.9400e+02 2.6700e+02\n",
      " 1.4320e+03 6.5900e+02 6.7800e+02 3.0000e+01 4.4000e+01 3.1900e+02\n",
      " 1.3000e+02 1.0790e+03 1.5590e+03 4.9300e+02 1.1680e+03 5.7800e+02\n",
      " 4.5000e+02 5.4000e+01 5.2500e+02 1.1450e+03 1.3420e+03 3.4400e+02\n",
      " 1.1000e+02 1.8900e+02 1.6820e+03 4.5100e+02 2.4000e+01 9.2200e+02\n",
      " 9.6000e+01 1.3800e+02 5.5700e+02 7.4300e+02 2.8500e+02 2.6280e+03\n",
      " 1.6460e+03 1.1310e+03 2.7100e+02 1.5580e+03 1.7950e+03 1.9940e+03\n",
      " 3.8130e+03 1.8650e+03 1.1600e+02 3.4800e+02 3.6200e+02 1.3300e+02\n",
      " 1.7000e+02 1.6610e+03 4.3330e+03 6.6000e+02 3.6600e+02 6.4000e+01\n",
      " 1.5400e+02 9.8100e+02 1.7400e+02 1.1100e+02 7.7000e+01 4.4200e+02\n",
      " 1.6170e+03 9.2000e+01 3.6480e+03 1.2820e+03 1.6980e+03 7.7900e+02\n",
      " 4.4300e+02 2.0050e+03 1.5090e+03 3.1500e+02 5.6900e+02 3.7400e+02\n",
      " 1.3200e+02 7.0900e+02 1.4410e+03 2.5160e+03 2.7000e+02 1.7520e+03\n",
      " 1.1810e+03 9.4700e+02 1.6500e+03 1.7930e+03 1.3490e+03 6.3300e+02\n",
      " 1.5500e+02 6.5600e+02 2.9900e+02 2.6460e+03 6.1800e+02 3.9400e+02\n",
      " 5.9000e+01 9.7100e+02 1.4200e+02 6.9900e+02 1.5530e+03 6.6900e+02\n",
      " 7.2600e+02 7.5000e+01 4.0700e+02 1.1000e+03 1.2710e+03 2.3800e+02\n",
      " 5.9900e+02 2.3600e+02 3.4100e+02 1.1700e+02 1.5000e+02 5.0400e+02\n",
      " 7.6200e+02 5.3200e+02 9.0000e+01 5.8400e+02 7.0500e+02 1.2640e+03\n",
      " 8.3000e+02 2.6900e+02 8.9800e+02 4.1500e+02 1.8100e+02 5.8100e+02\n",
      " 4.0000e+02 1.4420e+03 9.1000e+01 3.9500e+02 2.9080e+03 6.7400e+02\n",
      " 1.7630e+03 6.8800e+02 2.7400e+02 8.0000e+02 1.7770e+03 1.1580e+03\n",
      " 5.0800e+02 2.6870e+03 1.2150e+03 4.5900e+02 6.4000e+02 2.7600e+02\n",
      " 8.2700e+02 3.3500e+02 7.8800e+02 3.5700e+02 2.4600e+02 9.8000e+02\n",
      " 2.3200e+02 1.7690e+03 6.3200e+02 8.6900e+02 1.1200e+02 7.1700e+02\n",
      " 2.5800e+02 1.5030e+03 4.5090e+03 2.8400e+02 1.3760e+03 2.4200e+02\n",
      " 1.9000e+02 1.5640e+03 6.2700e+02 2.2700e+02 7.3500e+02 5.9700e+02\n",
      " 1.8830e+03 2.1500e+02 6.2300e+02 1.1890e+03 1.4620e+03 5.5300e+02\n",
      " 7.1100e+02 2.3160e+03 8.0500e+02 4.7700e+02 2.5500e+02 7.6400e+02\n",
      " 1.1360e+03 4.2400e+02 9.7000e+02 9.2700e+02 2.2780e+03 1.3400e+02\n",
      " 6.6200e+02 2.2300e+02 5.3100e+02 3.7800e+02 3.6000e+02 2.4330e+03\n",
      " 1.8280e+03 1.5460e+03 1.2300e+02 1.6300e+02 4.8900e+02 1.1440e+03\n",
      " 7.7700e+02 7.0300e+02 3.6270e+03 1.8600e+02 9.5900e+02 2.0740e+03\n",
      " 3.2700e+02 7.4200e+02 3.5800e+02 4.1800e+02 3.5300e+02 5.2400e+02\n",
      " 4.5500e+02 1.0800e+03 1.6700e+02 1.4350e+03 7.7400e+02 1.1320e+03\n",
      " 1.1500e+02 6.6400e+02 6.0800e+02 8.8200e+02 4.7900e+03 1.0200e+03\n",
      " 2.2200e+02 2.7160e+03 2.3500e+02 7.8500e+02 3.6400e+02 4.8600e+02\n",
      " 2.1400e+03 8.3000e+01 5.6700e+02 7.1200e+02 7.5400e+02 4.8740e+03\n",
      " 1.1290e+03 9.4500e+02 9.4900e+02 4.2850e+03 4.4100e+02 2.0600e+02\n",
      " 6.1000e+02 4.2000e+01 1.5130e+03 1.4140e+03 4.7100e+02 7.7100e+02\n",
      " 2.4140e+03 3.1100e+02 1.4550e+03 6.3800e+02 1.7420e+03 1.3390e+03\n",
      " 8.9500e+02 1.2900e+02 8.8900e+02 8.7700e+02 3.2460e+03 3.7500e+02\n",
      " 2.1840e+03 1.9900e+03 1.6900e+02 2.1700e+02 6.0300e+02 2.5540e+03\n",
      " 8.5000e+01 2.0030e+03 4.6500e+02 3.9200e+02 1.4450e+03 1.6770e+03\n",
      " 6.1500e+02 1.0300e+02 2.4540e+03 2.4100e+02 4.5810e+03 4.9400e+03\n",
      " 2.0670e+03 3.8000e+02 1.1800e+02 1.3560e+03 1.9800e+02 4.7600e+02\n",
      " 8.8800e+02 1.2100e+02 9.2900e+02 3.7830e+03 7.4600e+02 2.7200e+02\n",
      " 1.5200e+02 4.3700e+02 1.8750e+03 6.5500e+02 9.4100e+02 7.1300e+02\n",
      " 8.6800e+02 7.8000e+02 5.6350e+03 5.0100e+02 8.4700e+02 1.2970e+03\n",
      " 1.9100e+02 2.7500e+03 2.1020e+03 3.0900e+02 1.0424e+04 6.9000e+01\n",
      " 1.9190e+03 7.0600e+02 3.2100e+02 2.8320e+03 8.4600e+02 5.0500e+02\n",
      " 6.0600e+02 1.2500e+02 4.3000e+02 7.8900e+02 1.5480e+03 2.2510e+03\n",
      " 6.0500e+02 5.8600e+02 1.9050e+03 4.1300e+02 5.7100e+02 4.4900e+02\n",
      " 5.6500e+02 8.5300e+02 1.4400e+02 1.0400e+03 1.3200e+03 5.2800e+02\n",
      " 2.1530e+03 2.5740e+03 3.5000e+02 1.0470e+03 1.5300e+02 1.6600e+02\n",
      " 1.8780e+03 2.1600e+02 6.6300e+02 2.1960e+03 1.0890e+03 5.5900e+02\n",
      " 6.8050e+03 7.7800e+02 5.4500e+02 6.1700e+02 6.6700e+02 1.0060e+03\n",
      " 2.9290e+03 2.4730e+03 5.4200e+02 3.0200e+02 1.5940e+03 2.1340e+03\n",
      " 2.6400e+02 1.6090e+03 1.1100e+03 2.3320e+03 7.2500e+02 9.7300e+02\n",
      " 3.1700e+02 5.9800e+02 7.2400e+02 8.5900e+02 1.0370e+03 2.0900e+02\n",
      " 6.8100e+02 1.4900e+02 5.9500e+02 2.5400e+02 2.0770e+03 1.1420e+03\n",
      " 8.9000e+02 1.9400e+02 8.4800e+02 7.3000e+01 8.9200e+02 7.9000e+02\n",
      " 3.0000e+02 3.2400e+02 1.1990e+03 4.1400e+02 1.7610e+03 1.4300e+02\n",
      " 8.9100e+02 8.0800e+02 7.6100e+02 3.6700e+02 2.6500e+02 9.0580e+03\n",
      " 2.3870e+03 1.2240e+03 6.5300e+02 1.0390e+03 3.9490e+03 2.3660e+03\n",
      " 2.9100e+02 1.0480e+03 1.3260e+03 1.4370e+03 7.0000e+02 5.3400e+02\n",
      " 1.6570e+03 4.0300e+02 1.3130e+03 1.1670e+03 1.4500e+02 8.4100e+02\n",
      " 6.3600e+02 7.5100e+02 1.5730e+03 1.5410e+03 1.3170e+03 6.9400e+02\n",
      " 5.4680e+03 2.3100e+02 4.7800e+02 6.2200e+02 2.9150e+03 1.7200e+03\n",
      " 1.6500e+02 8.5800e+02 5.2700e+02 7.6300e+02 1.5900e+03 7.1000e+02\n",
      " 4.3300e+02 1.6800e+02 1.6860e+03 3.3600e+02 8.4900e+02 1.8640e+03\n",
      " 2.0760e+03 1.1300e+02 1.1850e+03 2.9740e+03 9.7600e+02 1.8300e+02\n",
      " 8.3500e+02 3.3900e+02 8.4500e+02 1.2700e+02 1.2253e+04 2.3410e+03\n",
      " 5.2000e+02 1.7910e+03 1.5010e+03 3.0400e+02 1.1470e+03 1.1190e+03\n",
      " 2.6140e+03 1.4000e+02 8.1300e+02 6.3500e+02 1.3730e+03 6.9600e+02\n",
      " 2.3980e+03 1.8980e+03 2.3830e+03 1.0000e+03 2.0100e+03 7.8100e+03\n",
      " 4.0580e+03 1.1790e+03 9.0900e+02 8.6000e+02 9.0100e+02 1.7200e+02\n",
      " 1.6600e+03 1.1640e+03 1.0150e+03 1.5830e+03 1.0410e+03 1.7700e+02\n",
      " 2.0900e+03 1.2320e+03 8.5100e+02 1.9670e+03 6.3100e+02 6.8200e+02\n",
      " 1.6900e+03 1.7500e+02 1.2110e+03 2.3300e+03 1.6420e+03 8.4400e+02\n",
      " 1.9110e+03 2.0800e+03 4.7610e+03 4.0000e+01 6.5100e+02 7.7300e+02\n",
      " 7.6600e+02 8.7900e+02 1.7900e+02 8.7400e+02 1.0280e+03 2.7300e+02\n",
      " 2.4010e+03 2.8850e+03 1.9070e+03 1.0500e+03 1.9600e+02 2.9700e+02\n",
      " 4.5800e+02 1.5400e+03 3.9440e+03 5.3600e+02 4.3900e+02 5.7500e+02\n",
      " 3.8600e+02 2.9560e+03 4.2500e+02 9.1000e+02 1.1210e+03 1.1040e+03\n",
      " 6.4300e+02 7.0200e+02 1.4680e+03 4.1600e+02 5.7200e+02 1.8260e+03\n",
      " 1.3090e+03 1.1400e+02 1.2880e+03 4.8100e+02 1.0250e+03 5.8000e+01\n",
      " 7.2800e+02 4.1270e+03 3.0500e+02 2.6210e+03 3.7900e+02 1.9120e+03\n",
      " 2.3900e+02 3.4600e+02 4.1900e+02 3.4900e+02 6.4400e+02 3.9580e+03\n",
      " 8.1700e+02 4.4700e+02 1.0705e+04 6.0400e+02 6.2400e+02 6.8600e+02\n",
      " 3.3100e+02 9.6000e+02 1.3500e+02 4.9200e+02 3.4200e+02 2.6200e+02\n",
      " 2.7780e+03 5.9400e+02 1.6290e+03 2.5660e+03 5.7600e+02 4.6000e+02\n",
      " 8.7600e+02 1.0080e+03 2.2670e+03 1.9290e+03 2.7700e+02 6.0200e+02\n",
      " 1.7920e+03 3.2000e+02 4.0400e+02 7.3900e+02 5.4600e+02 1.6410e+03\n",
      " 1.5360e+03 6.3000e+01 1.0830e+03 6.3310e+03 9.7700e+02 2.0360e+03\n",
      " 2.9000e+02 3.9600e+02 7.9700e+02 6.2210e+03 1.9080e+03 1.3640e+03\n",
      " 4.5600e+02 1.7290e+03 1.1690e+03 9.2800e+02 3.0800e+02 2.2000e+02\n",
      " 2.3700e+03 1.0630e+03 1.6400e+02 1.4010e+03 7.8200e+02 2.8600e+02\n",
      " 6.3700e+02 8.5500e+02 1.3630e+03 3.5400e+02 2.0000e+02 4.1200e+02\n",
      " 7.1480e+03 6.2000e+02 1.2000e+02 1.5980e+03 1.2910e+03 4.4070e+03\n",
      " 5.6300e+02 1.1050e+03 8.1600e+02 4.0900e+02 1.9700e+03 2.0400e+02\n",
      " 1.3570e+03 3.3800e+02 1.0720e+03 1.0690e+03 7.5800e+02 1.3530e+03\n",
      " 7.8400e+02 1.8400e+02 1.2960e+03 7.9200e+02 6.8400e+02 8.0700e+02\n",
      " 4.8300e+02 1.3380e+03 9.1800e+02 2.0500e+02 5.1000e+02 1.8720e+03] \n",
      "\n",
      "984 \n",
      "\n",
      "Spa \n",
      "\n",
      "[   0.  549. 6715. ...  698. 1107. 1643.] \n",
      "\n",
      "1143 \n",
      "\n",
      "VRDeck \n",
      "\n",
      "[   0.   44.   49. ... 1317. 1164. 3235.] \n",
      "\n",
      "1106 \n",
      "\n",
      "Name \n",
      "\n",
      "['Maham Ofracculy' 'Juanna Vines' 'Altark Susent' ... 'Fayey Connon'\n",
      " 'Celeon Hontichre' 'Propsh Hontichre'] \n",
      "\n",
      "6590 \n",
      "\n",
      "Transported \n",
      "\n",
      "[False  True] \n",
      "\n",
      "2 \n",
      "\n"
     ]
    }
   ],
   "source": [
    "#checking unique feature names,occurance,n_times\n",
    "for i in df.columns:\n",
    "    print(i,'\\n')\n",
    "    print(df[i].unique(),'\\n')\n",
    "    print(df[i].nunique(),'\\n')"
   ]
  },
  {
   "cell_type": "code",
   "execution_count": 182,
   "id": "bb785917",
   "metadata": {},
   "outputs": [
    {
     "name": "stdout",
     "output_type": "stream",
     "text": [
      "<class 'pandas.core.frame.DataFrame'>\n",
      "Int64Index: 6606 entries, 0 to 8692\n",
      "Data columns (total 14 columns):\n",
      " #   Column        Non-Null Count  Dtype  \n",
      "---  ------        --------------  -----  \n",
      " 0   PassengerId   6606 non-null   object \n",
      " 1   HomePlanet    6606 non-null   object \n",
      " 2   CryoSleep     6606 non-null   object \n",
      " 3   Cabin         6606 non-null   object \n",
      " 4   Destination   6606 non-null   object \n",
      " 5   Age           6606 non-null   float64\n",
      " 6   VIP           6606 non-null   object \n",
      " 7   RoomService   6606 non-null   float64\n",
      " 8   FoodCourt     6606 non-null   float64\n",
      " 9   ShoppingMall  6606 non-null   float64\n",
      " 10  Spa           6606 non-null   float64\n",
      " 11  VRDeck        6606 non-null   float64\n",
      " 12  Name          6606 non-null   object \n",
      " 13  Transported   6606 non-null   bool   \n",
      "dtypes: bool(1), float64(6), object(7)\n",
      "memory usage: 729.0+ KB\n"
     ]
    }
   ],
   "source": [
    "df.info()"
   ]
  },
  {
   "cell_type": "code",
   "execution_count": 183,
   "id": "6406f911",
   "metadata": {},
   "outputs": [
    {
     "data": {
      "text/plain": [
       "<AxesSubplot:>"
      ]
     },
     "execution_count": 183,
     "metadata": {},
     "output_type": "execute_result"
    },
    {
     "data": {
      "image/png": "[encoded data removed]",
      "text/plain": [
       "<Figure size 432x288 with 2 Axes>"
      ]
     },
     "metadata": {
      "needs_background": "light"
     },
     "output_type": "display_data"
    }
   ],
   "source": [
    "import seaborn as sn\n",
    "import matplotlib.pyplot as plt\n",
    "\n",
    "sn.heatmap(df.corr(),annot=True)"
   ]
  },
  {
   "cell_type": "code",
   "execution_count": 184,
   "id": "3ee4517e",
   "metadata": {},
   "outputs": [],
   "source": [
    "df['Transported']=df.Transported.astype(object)"
   ]
  },
  {
   "cell_type": "code",
   "execution_count": 185,
   "id": "ea6f157a",
   "metadata": {},
   "outputs": [
    {
     "name": "stdout",
     "output_type": "stream",
     "text": [
      "Numerical columns: Index(['Age', 'RoomService', 'FoodCourt', 'ShoppingMall', 'Spa', 'VRDeck'], dtype='object')\n",
      "Categorical Columns: Index(['PassengerId', 'HomePlanet', 'CryoSleep', 'Cabin', 'Destination', 'VIP',\n",
      "       'Name', 'Transported'],\n",
      "      dtype='object')\n"
     ]
    }
   ],
   "source": [
    "## segregate numerical and categorical columns\n",
    "\n",
    "numerical_columns=df.columns[df.dtypes!='object']\n",
    "categorical_columns=df.columns[df.dtypes=='object']\n",
    "print(\"Numerical columns:\",numerical_columns)\n",
    "print('Categorical Columns:',categorical_columns)"
   ]
  },
  {
   "cell_type": "code",
   "execution_count": 186,
   "id": "1dabf61c",
   "metadata": {},
   "outputs": [
    {
     "data": {
      "text/html": [
       "<div>\n",
       "<style scoped>\n",
       "    .dataframe tbody tr th:only-of-type {\n",
       "        vertical-align: middle;\n",
       "    }\n",
       "\n",
       "    .dataframe tbody tr th {\n",
       "        vertical-align: top;\n",
       "    }\n",
       "\n",
       "    .dataframe thead th {\n",
       "        text-align: right;\n",
       "    }\n",
       "</style>\n",
       "<table border=\"1\" class=\"dataframe\">\n",
       "  <thead>\n",
       "    <tr style=\"text-align: right;\">\n",
       "      <th></th>\n",
       "      <th>Age</th>\n",
       "      <th>RoomService</th>\n",
       "      <th>FoodCourt</th>\n",
       "      <th>ShoppingMall</th>\n",
       "      <th>Spa</th>\n",
       "      <th>VRDeck</th>\n",
       "    </tr>\n",
       "  </thead>\n",
       "  <tbody>\n",
       "    <tr>\n",
       "      <th>0</th>\n",
       "      <td>39.0</td>\n",
       "      <td>0.0</td>\n",
       "      <td>0.0</td>\n",
       "      <td>0.0</td>\n",
       "      <td>0.0</td>\n",
       "      <td>0.0</td>\n",
       "    </tr>\n",
       "    <tr>\n",
       "      <th>1</th>\n",
       "      <td>24.0</td>\n",
       "      <td>109.0</td>\n",
       "      <td>9.0</td>\n",
       "      <td>25.0</td>\n",
       "      <td>549.0</td>\n",
       "      <td>44.0</td>\n",
       "    </tr>\n",
       "    <tr>\n",
       "      <th>2</th>\n",
       "      <td>58.0</td>\n",
       "      <td>43.0</td>\n",
       "      <td>3576.0</td>\n",
       "      <td>0.0</td>\n",
       "      <td>6715.0</td>\n",
       "      <td>49.0</td>\n",
       "    </tr>\n",
       "    <tr>\n",
       "      <th>3</th>\n",
       "      <td>33.0</td>\n",
       "      <td>0.0</td>\n",
       "      <td>1283.0</td>\n",
       "      <td>371.0</td>\n",
       "      <td>3329.0</td>\n",
       "      <td>193.0</td>\n",
       "    </tr>\n",
       "    <tr>\n",
       "      <th>4</th>\n",
       "      <td>16.0</td>\n",
       "      <td>303.0</td>\n",
       "      <td>70.0</td>\n",
       "      <td>151.0</td>\n",
       "      <td>565.0</td>\n",
       "      <td>2.0</td>\n",
       "    </tr>\n",
       "    <tr>\n",
       "      <th>...</th>\n",
       "      <td>...</td>\n",
       "      <td>...</td>\n",
       "      <td>...</td>\n",
       "      <td>...</td>\n",
       "      <td>...</td>\n",
       "      <td>...</td>\n",
       "    </tr>\n",
       "    <tr>\n",
       "      <th>8688</th>\n",
       "      <td>41.0</td>\n",
       "      <td>0.0</td>\n",
       "      <td>6819.0</td>\n",
       "      <td>0.0</td>\n",
       "      <td>1643.0</td>\n",
       "      <td>74.0</td>\n",
       "    </tr>\n",
       "    <tr>\n",
       "      <th>8689</th>\n",
       "      <td>18.0</td>\n",
       "      <td>0.0</td>\n",
       "      <td>0.0</td>\n",
       "      <td>0.0</td>\n",
       "      <td>0.0</td>\n",
       "      <td>0.0</td>\n",
       "    </tr>\n",
       "    <tr>\n",
       "      <th>8690</th>\n",
       "      <td>26.0</td>\n",
       "      <td>0.0</td>\n",
       "      <td>0.0</td>\n",
       "      <td>1872.0</td>\n",
       "      <td>1.0</td>\n",
       "      <td>0.0</td>\n",
       "    </tr>\n",
       "    <tr>\n",
       "      <th>8691</th>\n",
       "      <td>32.0</td>\n",
       "      <td>0.0</td>\n",
       "      <td>1049.0</td>\n",
       "      <td>0.0</td>\n",
       "      <td>353.0</td>\n",
       "      <td>3235.0</td>\n",
       "    </tr>\n",
       "    <tr>\n",
       "      <th>8692</th>\n",
       "      <td>44.0</td>\n",
       "      <td>126.0</td>\n",
       "      <td>4688.0</td>\n",
       "      <td>0.0</td>\n",
       "      <td>0.0</td>\n",
       "      <td>12.0</td>\n",
       "    </tr>\n",
       "  </tbody>\n",
       "</table>\n",
       "<p>6606 rows × 6 columns</p>\n",
       "</div>"
      ],
      "text/plain": [
       "       Age  RoomService  FoodCourt  ShoppingMall     Spa  VRDeck\n",
       "0     39.0          0.0        0.0           0.0     0.0     0.0\n",
       "1     24.0        109.0        9.0          25.0   549.0    44.0\n",
       "2     58.0         43.0     3576.0           0.0  6715.0    49.0\n",
       "3     33.0          0.0     1283.0         371.0  3329.0   193.0\n",
       "4     16.0        303.0       70.0         151.0   565.0     2.0\n",
       "...    ...          ...        ...           ...     ...     ...\n",
       "8688  41.0          0.0     6819.0           0.0  1643.0    74.0\n",
       "8689  18.0          0.0        0.0           0.0     0.0     0.0\n",
       "8690  26.0          0.0        0.0        1872.0     1.0     0.0\n",
       "8691  32.0          0.0     1049.0           0.0   353.0  3235.0\n",
       "8692  44.0        126.0     4688.0           0.0     0.0    12.0\n",
       "\n",
       "[6606 rows x 6 columns]"
      ]
     },
     "execution_count": 186,
     "metadata": {},
     "output_type": "execute_result"
    }
   ],
   "source": [
    "numerical_data=df[numerical_columns]\n",
    "numerical_data"
   ]
  },
  {
   "cell_type": "code",
   "execution_count": 187,
   "id": "e883a5f1",
   "metadata": {},
   "outputs": [
    {
     "name": "stdout",
     "output_type": "stream",
     "text": [
      "<class 'pandas.core.frame.DataFrame'>\n",
      "Int64Index: 6606 entries, 0 to 8692\n",
      "Data columns (total 6 columns):\n",
      " #   Column        Non-Null Count  Dtype  \n",
      "---  ------        --------------  -----  \n",
      " 0   Age           6606 non-null   float64\n",
      " 1   RoomService   6606 non-null   float64\n",
      " 2   FoodCourt     6606 non-null   float64\n",
      " 3   ShoppingMall  6606 non-null   float64\n",
      " 4   Spa           6606 non-null   float64\n",
      " 5   VRDeck        6606 non-null   float64\n",
      "dtypes: float64(6)\n",
      "memory usage: 361.3 KB\n"
     ]
    }
   ],
   "source": [
    "numerical_data.info()"
   ]
  },
  {
   "cell_type": "code",
   "execution_count": null,
   "id": "c23ddd10",
   "metadata": {},
   "outputs": [],
   "source": []
  },
  {
   "cell_type": "code",
   "execution_count": 188,
   "id": "443e9ff6",
   "metadata": {},
   "outputs": [
    {
     "data": {
      "text/html": [
       "<div>\n",
       "<style scoped>\n",
       "    .dataframe tbody tr th:only-of-type {\n",
       "        vertical-align: middle;\n",
       "    }\n",
       "\n",
       "    .dataframe tbody tr th {\n",
       "        vertical-align: top;\n",
       "    }\n",
       "\n",
       "    .dataframe thead th {\n",
       "        text-align: right;\n",
       "    }\n",
       "</style>\n",
       "<table border=\"1\" class=\"dataframe\">\n",
       "  <thead>\n",
       "    <tr style=\"text-align: right;\">\n",
       "      <th></th>\n",
       "      <th>PassengerId</th>\n",
       "      <th>HomePlanet</th>\n",
       "      <th>CryoSleep</th>\n",
       "      <th>Cabin</th>\n",
       "      <th>Destination</th>\n",
       "      <th>VIP</th>\n",
       "      <th>Name</th>\n",
       "      <th>Transported</th>\n",
       "    </tr>\n",
       "  </thead>\n",
       "  <tbody>\n",
       "    <tr>\n",
       "      <th>0</th>\n",
       "      <td>0001_01</td>\n",
       "      <td>Europa</td>\n",
       "      <td>False</td>\n",
       "      <td>B/0/P</td>\n",
       "      <td>TRAPPIST-1e</td>\n",
       "      <td>False</td>\n",
       "      <td>Maham Ofracculy</td>\n",
       "      <td>False</td>\n",
       "    </tr>\n",
       "    <tr>\n",
       "      <th>1</th>\n",
       "      <td>0002_01</td>\n",
       "      <td>Earth</td>\n",
       "      <td>False</td>\n",
       "      <td>F/0/S</td>\n",
       "      <td>TRAPPIST-1e</td>\n",
       "      <td>False</td>\n",
       "      <td>Juanna Vines</td>\n",
       "      <td>True</td>\n",
       "    </tr>\n",
       "    <tr>\n",
       "      <th>2</th>\n",
       "      <td>0003_01</td>\n",
       "      <td>Europa</td>\n",
       "      <td>False</td>\n",
       "      <td>A/0/S</td>\n",
       "      <td>TRAPPIST-1e</td>\n",
       "      <td>True</td>\n",
       "      <td>Altark Susent</td>\n",
       "      <td>False</td>\n",
       "    </tr>\n",
       "    <tr>\n",
       "      <th>3</th>\n",
       "      <td>0003_02</td>\n",
       "      <td>Europa</td>\n",
       "      <td>False</td>\n",
       "      <td>A/0/S</td>\n",
       "      <td>TRAPPIST-1e</td>\n",
       "      <td>False</td>\n",
       "      <td>Solam Susent</td>\n",
       "      <td>False</td>\n",
       "    </tr>\n",
       "    <tr>\n",
       "      <th>4</th>\n",
       "      <td>0004_01</td>\n",
       "      <td>Earth</td>\n",
       "      <td>False</td>\n",
       "      <td>F/1/S</td>\n",
       "      <td>TRAPPIST-1e</td>\n",
       "      <td>False</td>\n",
       "      <td>Willy Santantines</td>\n",
       "      <td>True</td>\n",
       "    </tr>\n",
       "    <tr>\n",
       "      <th>...</th>\n",
       "      <td>...</td>\n",
       "      <td>...</td>\n",
       "      <td>...</td>\n",
       "      <td>...</td>\n",
       "      <td>...</td>\n",
       "      <td>...</td>\n",
       "      <td>...</td>\n",
       "      <td>...</td>\n",
       "    </tr>\n",
       "    <tr>\n",
       "      <th>8688</th>\n",
       "      <td>9276_01</td>\n",
       "      <td>Europa</td>\n",
       "      <td>False</td>\n",
       "      <td>A/98/P</td>\n",
       "      <td>55 Cancri e</td>\n",
       "      <td>True</td>\n",
       "      <td>Gravior Noxnuther</td>\n",
       "      <td>False</td>\n",
       "    </tr>\n",
       "    <tr>\n",
       "      <th>8689</th>\n",
       "      <td>9278_01</td>\n",
       "      <td>Earth</td>\n",
       "      <td>True</td>\n",
       "      <td>G/1499/S</td>\n",
       "      <td>PSO J318.5-22</td>\n",
       "      <td>False</td>\n",
       "      <td>Kurta Mondalley</td>\n",
       "      <td>False</td>\n",
       "    </tr>\n",
       "    <tr>\n",
       "      <th>8690</th>\n",
       "      <td>9279_01</td>\n",
       "      <td>Earth</td>\n",
       "      <td>False</td>\n",
       "      <td>G/1500/S</td>\n",
       "      <td>TRAPPIST-1e</td>\n",
       "      <td>False</td>\n",
       "      <td>Fayey Connon</td>\n",
       "      <td>True</td>\n",
       "    </tr>\n",
       "    <tr>\n",
       "      <th>8691</th>\n",
       "      <td>9280_01</td>\n",
       "      <td>Europa</td>\n",
       "      <td>False</td>\n",
       "      <td>E/608/S</td>\n",
       "      <td>55 Cancri e</td>\n",
       "      <td>False</td>\n",
       "      <td>Celeon Hontichre</td>\n",
       "      <td>False</td>\n",
       "    </tr>\n",
       "    <tr>\n",
       "      <th>8692</th>\n",
       "      <td>9280_02</td>\n",
       "      <td>Europa</td>\n",
       "      <td>False</td>\n",
       "      <td>E/608/S</td>\n",
       "      <td>TRAPPIST-1e</td>\n",
       "      <td>False</td>\n",
       "      <td>Propsh Hontichre</td>\n",
       "      <td>True</td>\n",
       "    </tr>\n",
       "  </tbody>\n",
       "</table>\n",
       "<p>6606 rows × 8 columns</p>\n",
       "</div>"
      ],
      "text/plain": [
       "     PassengerId HomePlanet CryoSleep     Cabin    Destination    VIP  \\\n",
       "0        0001_01     Europa     False     B/0/P    TRAPPIST-1e  False   \n",
       "1        0002_01      Earth     False     F/0/S    TRAPPIST-1e  False   \n",
       "2        0003_01     Europa     False     A/0/S    TRAPPIST-1e   True   \n",
       "3        0003_02     Europa     False     A/0/S    TRAPPIST-1e  False   \n",
       "4        0004_01      Earth     False     F/1/S    TRAPPIST-1e  False   \n",
       "...          ...        ...       ...       ...            ...    ...   \n",
       "8688     9276_01     Europa     False    A/98/P    55 Cancri e   True   \n",
       "8689     9278_01      Earth      True  G/1499/S  PSO J318.5-22  False   \n",
       "8690     9279_01      Earth     False  G/1500/S    TRAPPIST-1e  False   \n",
       "8691     9280_01     Europa     False   E/608/S    55 Cancri e  False   \n",
       "8692     9280_02     Europa     False   E/608/S    TRAPPIST-1e  False   \n",
       "\n",
       "                   Name Transported  \n",
       "0       Maham Ofracculy       False  \n",
       "1          Juanna Vines        True  \n",
       "2         Altark Susent       False  \n",
       "3          Solam Susent       False  \n",
       "4     Willy Santantines        True  \n",
       "...                 ...         ...  \n",
       "8688  Gravior Noxnuther       False  \n",
       "8689    Kurta Mondalley       False  \n",
       "8690       Fayey Connon        True  \n",
       "8691   Celeon Hontichre       False  \n",
       "8692   Propsh Hontichre        True  \n",
       "\n",
       "[6606 rows x 8 columns]"
      ]
     },
     "execution_count": 188,
     "metadata": {},
     "output_type": "execute_result"
    }
   ],
   "source": [
    "categorical_data=df[categorical_columns]\n",
    "categorical_data"
   ]
  },
  {
   "cell_type": "code",
   "execution_count": 189,
   "id": "6f1c93ec",
   "metadata": {},
   "outputs": [
    {
     "data": {
      "text/html": [
       "<div>\n",
       "<style scoped>\n",
       "    .dataframe tbody tr th:only-of-type {\n",
       "        vertical-align: middle;\n",
       "    }\n",
       "\n",
       "    .dataframe tbody tr th {\n",
       "        vertical-align: top;\n",
       "    }\n",
       "\n",
       "    .dataframe thead th {\n",
       "        text-align: right;\n",
       "    }\n",
       "</style>\n",
       "<table border=\"1\" class=\"dataframe\">\n",
       "  <thead>\n",
       "    <tr style=\"text-align: right;\">\n",
       "      <th></th>\n",
       "      <th>HomePlanet</th>\n",
       "      <th>CryoSleep</th>\n",
       "      <th>Destination</th>\n",
       "      <th>VIP</th>\n",
       "      <th>Transported</th>\n",
       "    </tr>\n",
       "  </thead>\n",
       "  <tbody>\n",
       "    <tr>\n",
       "      <th>0</th>\n",
       "      <td>Europa</td>\n",
       "      <td>False</td>\n",
       "      <td>TRAPPIST-1e</td>\n",
       "      <td>False</td>\n",
       "      <td>False</td>\n",
       "    </tr>\n",
       "    <tr>\n",
       "      <th>1</th>\n",
       "      <td>Earth</td>\n",
       "      <td>False</td>\n",
       "      <td>TRAPPIST-1e</td>\n",
       "      <td>False</td>\n",
       "      <td>True</td>\n",
       "    </tr>\n",
       "    <tr>\n",
       "      <th>2</th>\n",
       "      <td>Europa</td>\n",
       "      <td>False</td>\n",
       "      <td>TRAPPIST-1e</td>\n",
       "      <td>True</td>\n",
       "      <td>False</td>\n",
       "    </tr>\n",
       "    <tr>\n",
       "      <th>3</th>\n",
       "      <td>Europa</td>\n",
       "      <td>False</td>\n",
       "      <td>TRAPPIST-1e</td>\n",
       "      <td>False</td>\n",
       "      <td>False</td>\n",
       "    </tr>\n",
       "    <tr>\n",
       "      <th>4</th>\n",
       "      <td>Earth</td>\n",
       "      <td>False</td>\n",
       "      <td>TRAPPIST-1e</td>\n",
       "      <td>False</td>\n",
       "      <td>True</td>\n",
       "    </tr>\n",
       "    <tr>\n",
       "      <th>...</th>\n",
       "      <td>...</td>\n",
       "      <td>...</td>\n",
       "      <td>...</td>\n",
       "      <td>...</td>\n",
       "      <td>...</td>\n",
       "    </tr>\n",
       "    <tr>\n",
       "      <th>8688</th>\n",
       "      <td>Europa</td>\n",
       "      <td>False</td>\n",
       "      <td>55 Cancri e</td>\n",
       "      <td>True</td>\n",
       "      <td>False</td>\n",
       "    </tr>\n",
       "    <tr>\n",
       "      <th>8689</th>\n",
       "      <td>Earth</td>\n",
       "      <td>True</td>\n",
       "      <td>PSO J318.5-22</td>\n",
       "      <td>False</td>\n",
       "      <td>False</td>\n",
       "    </tr>\n",
       "    <tr>\n",
       "      <th>8690</th>\n",
       "      <td>Earth</td>\n",
       "      <td>False</td>\n",
       "      <td>TRAPPIST-1e</td>\n",
       "      <td>False</td>\n",
       "      <td>True</td>\n",
       "    </tr>\n",
       "    <tr>\n",
       "      <th>8691</th>\n",
       "      <td>Europa</td>\n",
       "      <td>False</td>\n",
       "      <td>55 Cancri e</td>\n",
       "      <td>False</td>\n",
       "      <td>False</td>\n",
       "    </tr>\n",
       "    <tr>\n",
       "      <th>8692</th>\n",
       "      <td>Europa</td>\n",
       "      <td>False</td>\n",
       "      <td>TRAPPIST-1e</td>\n",
       "      <td>False</td>\n",
       "      <td>True</td>\n",
       "    </tr>\n",
       "  </tbody>\n",
       "</table>\n",
       "<p>6606 rows × 5 columns</p>\n",
       "</div>"
      ],
      "text/plain": [
       "     HomePlanet CryoSleep    Destination    VIP Transported\n",
       "0        Europa     False    TRAPPIST-1e  False       False\n",
       "1         Earth     False    TRAPPIST-1e  False        True\n",
       "2        Europa     False    TRAPPIST-1e   True       False\n",
       "3        Europa     False    TRAPPIST-1e  False       False\n",
       "4         Earth     False    TRAPPIST-1e  False        True\n",
       "...         ...       ...            ...    ...         ...\n",
       "8688     Europa     False    55 Cancri e   True       False\n",
       "8689      Earth      True  PSO J318.5-22  False       False\n",
       "8690      Earth     False    TRAPPIST-1e  False        True\n",
       "8691     Europa     False    55 Cancri e  False       False\n",
       "8692     Europa     False    TRAPPIST-1e  False        True\n",
       "\n",
       "[6606 rows x 5 columns]"
      ]
     },
     "execution_count": 189,
     "metadata": {},
     "output_type": "execute_result"
    }
   ],
   "source": [
    "cat_df=categorical_data.drop([\"PassengerId\",\"Cabin\",\"Name\"],axis=\"columns\")\n",
    "cat_df"
   ]
  },
  {
   "cell_type": "code",
   "execution_count": 190,
   "id": "b634f171",
   "metadata": {},
   "outputs": [],
   "source": [
    "lb=LabelEncoder()\n",
    "for i in cat_df:\n",
    "    cat_df[i]=lb.fit_transform(df[i])\n",
    "\n",
    "df=pd.concat([numerical_data,cat_df],axis=1)"
   ]
  },
  {
   "cell_type": "code",
   "execution_count": 191,
   "id": "b043d3ee",
   "metadata": {},
   "outputs": [
    {
     "data": {
      "text/html": [
       "<div>\n",
       "<style scoped>\n",
       "    .dataframe tbody tr th:only-of-type {\n",
       "        vertical-align: middle;\n",
       "    }\n",
       "\n",
       "    .dataframe tbody tr th {\n",
       "        vertical-align: top;\n",
       "    }\n",
       "\n",
       "    .dataframe thead th {\n",
       "        text-align: right;\n",
       "    }\n",
       "</style>\n",
       "<table border=\"1\" class=\"dataframe\">\n",
       "  <thead>\n",
       "    <tr style=\"text-align: right;\">\n",
       "      <th></th>\n",
       "      <th>Age</th>\n",
       "      <th>RoomService</th>\n",
       "      <th>FoodCourt</th>\n",
       "      <th>ShoppingMall</th>\n",
       "      <th>Spa</th>\n",
       "      <th>VRDeck</th>\n",
       "      <th>HomePlanet</th>\n",
       "      <th>CryoSleep</th>\n",
       "      <th>Destination</th>\n",
       "      <th>VIP</th>\n",
       "      <th>Transported</th>\n",
       "    </tr>\n",
       "  </thead>\n",
       "  <tbody>\n",
       "    <tr>\n",
       "      <th>0</th>\n",
       "      <td>39.0</td>\n",
       "      <td>0.0</td>\n",
       "      <td>0.0</td>\n",
       "      <td>0.0</td>\n",
       "      <td>0.0</td>\n",
       "      <td>0.0</td>\n",
       "      <td>1</td>\n",
       "      <td>0</td>\n",
       "      <td>2</td>\n",
       "      <td>0</td>\n",
       "      <td>0</td>\n",
       "    </tr>\n",
       "    <tr>\n",
       "      <th>1</th>\n",
       "      <td>24.0</td>\n",
       "      <td>109.0</td>\n",
       "      <td>9.0</td>\n",
       "      <td>25.0</td>\n",
       "      <td>549.0</td>\n",
       "      <td>44.0</td>\n",
       "      <td>0</td>\n",
       "      <td>0</td>\n",
       "      <td>2</td>\n",
       "      <td>0</td>\n",
       "      <td>1</td>\n",
       "    </tr>\n",
       "    <tr>\n",
       "      <th>2</th>\n",
       "      <td>58.0</td>\n",
       "      <td>43.0</td>\n",
       "      <td>3576.0</td>\n",
       "      <td>0.0</td>\n",
       "      <td>6715.0</td>\n",
       "      <td>49.0</td>\n",
       "      <td>1</td>\n",
       "      <td>0</td>\n",
       "      <td>2</td>\n",
       "      <td>1</td>\n",
       "      <td>0</td>\n",
       "    </tr>\n",
       "    <tr>\n",
       "      <th>3</th>\n",
       "      <td>33.0</td>\n",
       "      <td>0.0</td>\n",
       "      <td>1283.0</td>\n",
       "      <td>371.0</td>\n",
       "      <td>3329.0</td>\n",
       "      <td>193.0</td>\n",
       "      <td>1</td>\n",
       "      <td>0</td>\n",
       "      <td>2</td>\n",
       "      <td>0</td>\n",
       "      <td>0</td>\n",
       "    </tr>\n",
       "    <tr>\n",
       "      <th>4</th>\n",
       "      <td>16.0</td>\n",
       "      <td>303.0</td>\n",
       "      <td>70.0</td>\n",
       "      <td>151.0</td>\n",
       "      <td>565.0</td>\n",
       "      <td>2.0</td>\n",
       "      <td>0</td>\n",
       "      <td>0</td>\n",
       "      <td>2</td>\n",
       "      <td>0</td>\n",
       "      <td>1</td>\n",
       "    </tr>\n",
       "  </tbody>\n",
       "</table>\n",
       "</div>"
      ],
      "text/plain": [
       "    Age  RoomService  FoodCourt  ShoppingMall     Spa  VRDeck  HomePlanet  \\\n",
       "0  39.0          0.0        0.0           0.0     0.0     0.0           1   \n",
       "1  24.0        109.0        9.0          25.0   549.0    44.0           0   \n",
       "2  58.0         43.0     3576.0           0.0  6715.0    49.0           1   \n",
       "3  33.0          0.0     1283.0         371.0  3329.0   193.0           1   \n",
       "4  16.0        303.0       70.0         151.0   565.0     2.0           0   \n",
       "\n",
       "   CryoSleep  Destination  VIP  Transported  \n",
       "0          0            2    0            0  \n",
       "1          0            2    0            1  \n",
       "2          0            2    1            0  \n",
       "3          0            2    0            0  \n",
       "4          0            2    0            1  "
      ]
     },
     "execution_count": 191,
     "metadata": {},
     "output_type": "execute_result"
    }
   ],
   "source": [
    "dff=pd.concat([numerical_data,cat_df],axis=1)\n",
    "dff.head()"
   ]
  },
  {
   "cell_type": "code",
   "execution_count": 192,
   "id": "15806c7d",
   "metadata": {},
   "outputs": [],
   "source": [
    "X=dff.iloc[:,:-1]\n",
    "y=dff.iloc[:,-1:]"
   ]
  },
  {
   "cell_type": "code",
   "execution_count": 193,
   "id": "7bd970b0",
   "metadata": {},
   "outputs": [
    {
     "data": {
      "text/html": [
       "<div>\n",
       "<style scoped>\n",
       "    .dataframe tbody tr th:only-of-type {\n",
       "        vertical-align: middle;\n",
       "    }\n",
       "\n",
       "    .dataframe tbody tr th {\n",
       "        vertical-align: top;\n",
       "    }\n",
       "\n",
       "    .dataframe thead th {\n",
       "        text-align: right;\n",
       "    }\n",
       "</style>\n",
       "<table border=\"1\" class=\"dataframe\">\n",
       "  <thead>\n",
       "    <tr style=\"text-align: right;\">\n",
       "      <th></th>\n",
       "      <th>Transported</th>\n",
       "    </tr>\n",
       "  </thead>\n",
       "  <tbody>\n",
       "    <tr>\n",
       "      <th>0</th>\n",
       "      <td>0</td>\n",
       "    </tr>\n",
       "    <tr>\n",
       "      <th>1</th>\n",
       "      <td>1</td>\n",
       "    </tr>\n",
       "    <tr>\n",
       "      <th>2</th>\n",
       "      <td>0</td>\n",
       "    </tr>\n",
       "    <tr>\n",
       "      <th>3</th>\n",
       "      <td>0</td>\n",
       "    </tr>\n",
       "    <tr>\n",
       "      <th>4</th>\n",
       "      <td>1</td>\n",
       "    </tr>\n",
       "    <tr>\n",
       "      <th>...</th>\n",
       "      <td>...</td>\n",
       "    </tr>\n",
       "    <tr>\n",
       "      <th>8688</th>\n",
       "      <td>0</td>\n",
       "    </tr>\n",
       "    <tr>\n",
       "      <th>8689</th>\n",
       "      <td>0</td>\n",
       "    </tr>\n",
       "    <tr>\n",
       "      <th>8690</th>\n",
       "      <td>1</td>\n",
       "    </tr>\n",
       "    <tr>\n",
       "      <th>8691</th>\n",
       "      <td>0</td>\n",
       "    </tr>\n",
       "    <tr>\n",
       "      <th>8692</th>\n",
       "      <td>1</td>\n",
       "    </tr>\n",
       "  </tbody>\n",
       "</table>\n",
       "<p>6606 rows × 1 columns</p>\n",
       "</div>"
      ],
      "text/plain": [
       "      Transported\n",
       "0               0\n",
       "1               1\n",
       "2               0\n",
       "3               0\n",
       "4               1\n",
       "...           ...\n",
       "8688            0\n",
       "8689            0\n",
       "8690            1\n",
       "8691            0\n",
       "8692            1\n",
       "\n",
       "[6606 rows x 1 columns]"
      ]
     },
     "execution_count": 193,
     "metadata": {},
     "output_type": "execute_result"
    }
   ],
   "source": [
    "y"
   ]
  },
  {
   "cell_type": "code",
   "execution_count": 194,
   "id": "347a32f2",
   "metadata": {},
   "outputs": [],
   "source": [
    "from sklearn.model_selection import train_test_split\n",
    "X_train, X_test, y_train, y_test = train_test_split(X, y, test_size=0.2, random_state=0)"
   ]
  },
  {
   "cell_type": "code",
   "execution_count": 195,
   "id": "292c94b4",
   "metadata": {},
   "outputs": [
    {
     "data": {
      "text/plain": [
       "((5284, 10), (1322, 10), (5284, 1), (1322, 1))"
      ]
     },
     "execution_count": 195,
     "metadata": {},
     "output_type": "execute_result"
    }
   ],
   "source": [
    "X_train.shape,X_test.shape,y_train.shape,y_test.shape"
   ]
  },
  {
   "cell_type": "code",
   "execution_count": 200,
   "id": "76d2b911",
   "metadata": {},
   "outputs": [],
   "source": [
    "sc=StandardScaler()\n",
    "X_train=sc.fit_transform(X_train)"
   ]
  },
  {
   "cell_type": "code",
   "execution_count": 201,
   "id": "74b88a72",
   "metadata": {},
   "outputs": [
    {
     "data": {
      "text/plain": [
       "array([[ 0.22051462, -0.34704629, -0.28209937, ...,  1.3539734 ,\n",
       "         0.64294679, -0.16314854],\n",
       "       [-1.70452544, -0.34704629, -0.28209937, ...,  1.3539734 ,\n",
       "         0.64294679, -0.16314854],\n",
       "       [ 0.08301176, -0.34704629, -0.14334471, ..., -0.73856695,\n",
       "         0.64294679, -0.16314854],\n",
       "       ...,\n",
       "       [ 0.49552034, -0.34704629,  2.51415978, ..., -0.73856695,\n",
       "         0.64294679, -0.16314854],\n",
       "       [ 0.35801748, -0.34704629, -0.2797476 , ..., -0.73856695,\n",
       "         0.64294679,  6.12938358],\n",
       "       [-1.01701113, -0.34393854,  0.23587883, ..., -0.73856695,\n",
       "         0.64294679, -0.16314854]])"
      ]
     },
     "execution_count": 201,
     "metadata": {},
     "output_type": "execute_result"
    }
   ],
   "source": [
    "X_train"
   ]
  },
  {
   "cell_type": "code",
   "execution_count": 202,
   "id": "866925a2",
   "metadata": {},
   "outputs": [
    {
     "data": {
      "text/html": [
       "<div>\n",
       "<style scoped>\n",
       "    .dataframe tbody tr th:only-of-type {\n",
       "        vertical-align: middle;\n",
       "    }\n",
       "\n",
       "    .dataframe tbody tr th {\n",
       "        vertical-align: top;\n",
       "    }\n",
       "\n",
       "    .dataframe thead th {\n",
       "        text-align: right;\n",
       "    }\n",
       "</style>\n",
       "<table border=\"1\" class=\"dataframe\">\n",
       "  <thead>\n",
       "    <tr style=\"text-align: right;\">\n",
       "      <th></th>\n",
       "      <th>Age</th>\n",
       "      <th>RoomService</th>\n",
       "      <th>FoodCourt</th>\n",
       "      <th>ShoppingMall</th>\n",
       "      <th>Spa</th>\n",
       "      <th>VRDeck</th>\n",
       "      <th>HomePlanet</th>\n",
       "      <th>CryoSleep</th>\n",
       "      <th>Destination</th>\n",
       "      <th>VIP</th>\n",
       "    </tr>\n",
       "  </thead>\n",
       "  <tbody>\n",
       "    <tr>\n",
       "      <th>2453</th>\n",
       "      <td>50.00</td>\n",
       "      <td>0.00</td>\n",
       "      <td>0.00</td>\n",
       "      <td>0.00</td>\n",
       "      <td>0.00</td>\n",
       "      <td>0.00</td>\n",
       "      <td>2</td>\n",
       "      <td>1</td>\n",
       "      <td>0</td>\n",
       "      <td>0</td>\n",
       "    </tr>\n",
       "    <tr>\n",
       "      <th>1334</th>\n",
       "      <td>18.00</td>\n",
       "      <td>0.00</td>\n",
       "      <td>0.00</td>\n",
       "      <td>0.00</td>\n",
       "      <td>0.00</td>\n",
       "      <td>0.00</td>\n",
       "      <td>0</td>\n",
       "      <td>1</td>\n",
       "      <td>1</td>\n",
       "      <td>0</td>\n",
       "    </tr>\n",
       "    <tr>\n",
       "      <th>8272</th>\n",
       "      <td>15.00</td>\n",
       "      <td>0.00</td>\n",
       "      <td>0.00</td>\n",
       "      <td>0.00</td>\n",
       "      <td>0.00</td>\n",
       "      <td>0.00</td>\n",
       "      <td>0</td>\n",
       "      <td>1</td>\n",
       "      <td>0</td>\n",
       "      <td>0</td>\n",
       "    </tr>\n",
       "    <tr>\n",
       "      <th>5090</th>\n",
       "      <td>52.00</td>\n",
       "      <td>0.00</td>\n",
       "      <td>0.00</td>\n",
       "      <td>0.00</td>\n",
       "      <td>0.00</td>\n",
       "      <td>0.00</td>\n",
       "      <td>0</td>\n",
       "      <td>1</td>\n",
       "      <td>1</td>\n",
       "      <td>0</td>\n",
       "    </tr>\n",
       "    <tr>\n",
       "      <th>4357</th>\n",
       "      <td>62.00</td>\n",
       "      <td>0.00</td>\n",
       "      <td>1633.00</td>\n",
       "      <td>0.00</td>\n",
       "      <td>1742.00</td>\n",
       "      <td>0.00</td>\n",
       "      <td>1</td>\n",
       "      <td>0</td>\n",
       "      <td>2</td>\n",
       "      <td>1</td>\n",
       "    </tr>\n",
       "    <tr>\n",
       "      <th>...</th>\n",
       "      <td>...</td>\n",
       "      <td>...</td>\n",
       "      <td>...</td>\n",
       "      <td>...</td>\n",
       "      <td>...</td>\n",
       "      <td>...</td>\n",
       "      <td>...</td>\n",
       "      <td>...</td>\n",
       "      <td>...</td>\n",
       "      <td>...</td>\n",
       "    </tr>\n",
       "    <tr>\n",
       "      <th>85</th>\n",
       "      <td>19.00</td>\n",
       "      <td>0.00</td>\n",
       "      <td>0.00</td>\n",
       "      <td>670.00</td>\n",
       "      <td>1.00</td>\n",
       "      <td>34.00</td>\n",
       "      <td>0</td>\n",
       "      <td>0</td>\n",
       "      <td>2</td>\n",
       "      <td>0</td>\n",
       "    </tr>\n",
       "    <tr>\n",
       "      <th>6816</th>\n",
       "      <td>37.00</td>\n",
       "      <td>300.00</td>\n",
       "      <td>3434.00</td>\n",
       "      <td>0.00</td>\n",
       "      <td>1.00</td>\n",
       "      <td>171.00</td>\n",
       "      <td>1</td>\n",
       "      <td>0</td>\n",
       "      <td>2</td>\n",
       "      <td>0</td>\n",
       "    </tr>\n",
       "    <tr>\n",
       "      <th>5926</th>\n",
       "      <td>43.00</td>\n",
       "      <td>2.00</td>\n",
       "      <td>5329.00</td>\n",
       "      <td>0.00</td>\n",
       "      <td>7.00</td>\n",
       "      <td>0.00</td>\n",
       "      <td>1</td>\n",
       "      <td>0</td>\n",
       "      <td>2</td>\n",
       "      <td>0</td>\n",
       "    </tr>\n",
       "    <tr>\n",
       "      <th>3793</th>\n",
       "      <td>14.00</td>\n",
       "      <td>0.00</td>\n",
       "      <td>0.00</td>\n",
       "      <td>0.00</td>\n",
       "      <td>0.00</td>\n",
       "      <td>0.00</td>\n",
       "      <td>0</td>\n",
       "      <td>1</td>\n",
       "      <td>1</td>\n",
       "      <td>0</td>\n",
       "    </tr>\n",
       "    <tr>\n",
       "      <th>6640</th>\n",
       "      <td>31.00</td>\n",
       "      <td>0.00</td>\n",
       "      <td>0.00</td>\n",
       "      <td>0.00</td>\n",
       "      <td>0.00</td>\n",
       "      <td>0.00</td>\n",
       "      <td>1</td>\n",
       "      <td>1</td>\n",
       "      <td>2</td>\n",
       "      <td>0</td>\n",
       "    </tr>\n",
       "  </tbody>\n",
       "</table>\n",
       "<p>1322 rows × 10 columns</p>\n",
       "</div>"
      ],
      "text/plain": [
       "       Age  RoomService  FoodCourt  ShoppingMall     Spa  VRDeck  HomePlanet  \\\n",
       "2453 50.00         0.00       0.00          0.00    0.00    0.00           2   \n",
       "1334 18.00         0.00       0.00          0.00    0.00    0.00           0   \n",
       "8272 15.00         0.00       0.00          0.00    0.00    0.00           0   \n",
       "5090 52.00         0.00       0.00          0.00    0.00    0.00           0   \n",
       "4357 62.00         0.00    1633.00          0.00 1742.00    0.00           1   \n",
       "...    ...          ...        ...           ...     ...     ...         ...   \n",
       "85   19.00         0.00       0.00        670.00    1.00   34.00           0   \n",
       "6816 37.00       300.00    3434.00          0.00    1.00  171.00           1   \n",
       "5926 43.00         2.00    5329.00          0.00    7.00    0.00           1   \n",
       "3793 14.00         0.00       0.00          0.00    0.00    0.00           0   \n",
       "6640 31.00         0.00       0.00          0.00    0.00    0.00           1   \n",
       "\n",
       "      CryoSleep  Destination  VIP  \n",
       "2453          1            0    0  \n",
       "1334          1            1    0  \n",
       "8272          1            0    0  \n",
       "5090          1            1    0  \n",
       "4357          0            2    1  \n",
       "...         ...          ...  ...  \n",
       "85            0            2    0  \n",
       "6816          0            2    0  \n",
       "5926          0            2    0  \n",
       "3793          1            1    0  \n",
       "6640          1            2    0  \n",
       "\n",
       "[1322 rows x 10 columns]"
      ]
     },
     "execution_count": 202,
     "metadata": {},
     "output_type": "execute_result"
    }
   ],
   "source": [
    "X_test"
   ]
  },
  {
   "cell_type": "code",
   "execution_count": 203,
   "id": "3e44b24b",
   "metadata": {},
   "outputs": [],
   "source": [
    "X_test=sc.transform(X_test)"
   ]
  },
  {
   "cell_type": "code",
   "execution_count": 204,
   "id": "ac27cf9e",
   "metadata": {},
   "outputs": [
    {
     "data": {
      "text/plain": [
       "array([[ 1.45804037, -0.34704629, -0.28209937, ...,  1.3539734 ,\n",
       "        -1.77680451, -0.16314854],\n",
       "       [-0.74200541, -0.34704629, -0.28209937, ...,  1.3539734 ,\n",
       "        -0.56692886, -0.16314854],\n",
       "       [-0.9482597 , -0.34704629, -0.28209937, ...,  1.3539734 ,\n",
       "        -1.77680451, -0.16314854],\n",
       "       ...,\n",
       "       [ 0.97678035, -0.34393854,  2.85105139, ..., -0.73856695,\n",
       "         0.64294679, -0.16314854],\n",
       "       [-1.01701113, -0.34704629, -0.28209937, ...,  1.3539734 ,\n",
       "        -0.56692886, -0.16314854],\n",
       "       [ 0.15176319, -0.34704629, -0.28209937, ...,  1.3539734 ,\n",
       "         0.64294679, -0.16314854]])"
      ]
     },
     "execution_count": 204,
     "metadata": {},
     "output_type": "execute_result"
    }
   ],
   "source": [
    "X_test"
   ]
  },
  {
   "cell_type": "code",
   "execution_count": 205,
   "id": "9f9a9eb2",
   "metadata": {},
   "outputs": [
    {
     "name": "stdout",
     "output_type": "stream",
     "text": [
      "===================================\n",
      "Model LogisticRegression\n",
      "Accuracy: 78.51740%\n",
      "Log Loss: 0.46596\n",
      "===================================\n",
      "Model DecisionTreeClassifier\n",
      "Accuracy: 74.43268%\n",
      "Log Loss: 6.5797\n",
      "===================================\n",
      "Model RandomForestClassifier\n",
      "Accuracy: 78.59304%\n",
      "Log Loss: 0.67491\n",
      "===================================\n",
      "Model XGBClassifier\n",
      "Accuracy: 77.91225%\n",
      "Log Loss: 0.4586\n",
      "===================================\n",
      "Model KNeighborsClassifier\n",
      "Accuracy: 75.26475%\n",
      "Log Loss: 3.2834\n",
      "===================================\n",
      "Model SVC\n",
      "Accuracy: 76.70197%\n",
      "Log Loss: 0.50671\n",
      "===================================\n",
      "Model GaussianNB\n",
      "Accuracy: 69.59153%\n",
      "Log Loss: 1.3775\n"
     ]
    }
   ],
   "source": [
    "#compute mulitiple models by using function\n",
    "Model = [\n",
    "    LogisticRegression(),\n",
    "    DecisionTreeClassifier(),\n",
    "    RandomForestClassifier(),\n",
    "    XGBClassifier(),\n",
    "    KNeighborsClassifier(3),\n",
    "    SVC(kernel=\"rbf\", C=0.025, probability=True),\n",
    "    GaussianNB()\n",
    "    ] \n",
    "\n",
    "\n",
    "\n",
    "log_cols=[\"Model\", \"Accuracy\", \"Log Loss\"]\n",
    "log = pd.DataFrame(columns=log_cols)\n",
    "\n",
    "for clf in Model:\n",
    "    clf.fit(X_train, y_train)\n",
    "    name = clf.__class__.__name__\n",
    "    \n",
    "    \n",
    "    print('='*35)\n",
    "    print(\"Model\",name)\n",
    "    \n",
    "    \n",
    "    test_predictions = clf.predict(X_test)\n",
    "    acc = accuracy_score(y_test, test_predictions)\n",
    "    print(\"Accuracy: {:.5%}\".format(acc))\n",
    "    \n",
    "    test_predictions = clf.predict_proba(X_test)\n",
    "    ll = log_loss(y_test, test_predictions)\n",
    "    print(\"Log Loss: {:.5}\".format(ll))\n",
    "    \n",
    "    log_entry = pd.DataFrame([[name, acc*100, ll]], columns=log_cols)\n",
    "    log = log.append(log_entry)\n",
    "       "
   ]
  },
  {
   "cell_type": "code",
   "execution_count": 206,
   "id": "c9a8a3ad",
   "metadata": {},
   "outputs": [
    {
     "data": {
      "image/png": "[encoded data removed]",
      "text/plain": [
       "<Figure size 1080x576 with 2 Axes>"
      ]
     },
     "metadata": {},
     "output_type": "display_data"
    }
   ],
   "source": [
    "## Visualising the accuracy & log loss data\n",
    "#select color picker from google(https://www.google.com/search?q=%2340E0D0&rlz=1C1VDKB_enIN1030IN1031&sxsrf=APwXEdcxjpD9ffV6E8v6M2BOj78g-jrY4w%3A1687759085498&ei=7SiZZPOHHpTZseMPsLCEUA&ved=0ahUKEwizsofGoOD_AhWUbGwGHTAYAQoQ4dUDCA8&uact=5&oq=%2340E0D0&gs_lcp=Cgxnd3Mtd2l6LXNlcnAQAzIKCAAQRxDWBBCwAzIKCAAQRxDWBBCwAzIKCAAQRxDWBBCwAzIKCAAQRxDWBBCwAzIKCAAQRxDWBBCwAzIKCAAQRxDWBBCwAzIKCAAQRxDWBBCwAzIKCAAQRxDWBBCwA0oECEEYAFAAWABgwAFoAXABeACAAQCIAQCSAQCYAQDAAQHIAQg&sclient=gws-wiz-serp#cobssid=s)\n",
    "\n",
    "sns.set(rc={'axes.facecolor':'none','axes.grid':False,'xtick.labelsize':12,'ytick.labelsize':12, 'figure.autolayout':True})\n",
    "plt.subplots(figsize=(15,8))\n",
    "\n",
    "plt.subplot(1,2,1)\n",
    "sns.set_color_codes(\"bright\")\n",
    "sns.barplot(x='Accuracy', y='Model', data=log, color='#40E0D0')\n",
    "plt.xlabel('Accuracy %')\n",
    "plt.title('Model Accuracy', fontdict={'fontsize':12})\n",
    "\n",
    "plt.subplot(1,2,2)\n",
    "sns.set_color_codes(\"bright\")\n",
    "sns.barplot(x='Log Loss', y='Model', data=log, color='#c7e9b4')\n",
    "plt.xlabel('Log Loss')\n",
    "plt.title('Model Log Loss', fontdict={'fontsize':12})\n",
    "\n",
    "plt.show()"
   ]
  },
  {
   "cell_type": "code",
   "execution_count": null,
   "id": "a7aafc61",
   "metadata": {},
   "outputs": [],
   "source": []
  },
  {
   "cell_type": "code",
   "execution_count": null,
   "id": "830c5d07",
   "metadata": {},
   "outputs": [],
   "source": []
  },
  {
   "cell_type": "code",
   "execution_count": null,
   "id": "b15409d2",
   "metadata": {},
   "outputs": [],
   "source": []
  },
  {
   "cell_type": "code",
   "execution_count": null,
   "id": "c9b1d124",
   "metadata": {},
   "outputs": [],
   "source": []
  },
  {
   "cell_type": "code",
   "execution_count": null,
   "id": "9c205dbb",
   "metadata": {},
   "outputs": [],
   "source": []
  },
  {
   "cell_type": "code",
   "execution_count": null,
   "id": "1d837285",
   "metadata": {},
   "outputs": [],
   "source": []
  },
  {
   "cell_type": "code",
   "execution_count": null,
   "id": "ee270d0e",
   "metadata": {},
   "outputs": [],
   "source": []
  },
  {
   "cell_type": "code",
   "execution_count": null,
   "id": "ea1e2983",
   "metadata": {},
   "outputs": [],
   "source": []
  },
  {
   "cell_type": "code",
   "execution_count": 80,
   "id": "b04f92ed",
   "metadata": {},
   "outputs": [
    {
     "name": "stdout",
     "output_type": "stream",
     "text": [
      "\n",
      "\n"
     ]
    },
    {
     "data": {
      "image/png": "[encoded data removed]",
      "text/plain": [
       "<Figure size 504x360 with 1 Axes>"
      ]
     },
     "metadata": {
      "needs_background": "light"
     },
     "output_type": "display_data"
    },
    {
     "name": "stdout",
     "output_type": "stream",
     "text": [
      "\n",
      "\n"
     ]
    },
    {
     "data": {
      "image/png": "[encoded data removed]",
      "text/plain": [
       "<Figure size 432x288 with 1 Axes>"
      ]
     },
     "metadata": {
      "needs_background": "light"
     },
     "output_type": "display_data"
    },
    {
     "name": "stdout",
     "output_type": "stream",
     "text": [
      "\n",
      "\n"
     ]
    },
    {
     "data": {
      "image/png": "[encoded data removed]",
      "text/plain": [
       "<Figure size 432x288 with 1 Axes>"
      ]
     },
     "metadata": {
      "needs_background": "light"
     },
     "output_type": "display_data"
    },
    {
     "name": "stdout",
     "output_type": "stream",
     "text": [
      "\n",
      "\n"
     ]
    },
    {
     "data": {
      "image/png": "[encoded data removed]",
      "text/plain": [
       "<Figure size 432x288 with 1 Axes>"
      ]
     },
     "metadata": {
      "needs_background": "light"
     },
     "output_type": "display_data"
    },
    {
     "name": "stdout",
     "output_type": "stream",
     "text": [
      "\n",
      "\n"
     ]
    },
    {
     "data": {
      "image/png": "[encoded data removed]",
      "text/plain": [
       "<Figure size 432x288 with 1 Axes>"
      ]
     },
     "metadata": {
      "needs_background": "light"
     },
     "output_type": "display_data"
    },
    {
     "name": "stdout",
     "output_type": "stream",
     "text": [
      "\n",
      "\n"
     ]
    },
    {
     "data": {
      "image/png": "[encoded data removed]",
      "text/plain": [
       "<Figure size 432x288 with 1 Axes>"
      ]
     },
     "metadata": {
      "needs_background": "light"
     },
     "output_type": "display_data"
    },
    {
     "ename": "ValueError",
     "evalue": "object arrays are not supported",
     "output_type": "error",
     "traceback": [
      "\u001b[1;31m---------------------------------------------------------------------------\u001b[0m",
      "\u001b[1;31mValueError\u001b[0m                                Traceback (most recent call last)",
      "Input \u001b[1;32mIn [80]\u001b[0m, in \u001b[0;36m<cell line: 5>\u001b[1;34m()\u001b[0m\n\u001b[0;32m      4\u001b[0m x\u001b[38;5;241m=\u001b[39m\u001b[38;5;241m0\u001b[39m\n\u001b[0;32m      5\u001b[0m \u001b[38;5;28;01mfor\u001b[39;00m i \u001b[38;5;129;01min\u001b[39;00m numerical_columns:\n\u001b[1;32m----> 6\u001b[0m     \u001b[43msns\u001b[49m\u001b[38;5;241;43m.\u001b[39;49m\u001b[43mhistplot\u001b[49m\u001b[43m(\u001b[49m\u001b[43mdata\u001b[49m\u001b[38;5;241;43m=\u001b[39;49m\u001b[43mdf\u001b[49m\u001b[43m,\u001b[49m\u001b[43mx\u001b[49m\u001b[38;5;241;43m=\u001b[39;49m\u001b[43mi\u001b[49m\u001b[43m,\u001b[49m\u001b[43mkde\u001b[49m\u001b[38;5;241;43m=\u001b[39;49m\u001b[38;5;28;43;01mTrue\u001b[39;49;00m\u001b[43m)\u001b[49m\n\u001b[0;32m      7\u001b[0m     \u001b[38;5;28mprint\u001b[39m(\u001b[38;5;124m\"\u001b[39m\u001b[38;5;130;01m\\n\u001b[39;00m\u001b[38;5;124m\"\u001b[39m)\n\u001b[0;32m      8\u001b[0m     plt\u001b[38;5;241m.\u001b[39mshow()\n",
      "File \u001b[1;32m~\\anaconda3\\lib\\site-packages\\seaborn\\distributions.py:1462\u001b[0m, in \u001b[0;36mhistplot\u001b[1;34m(data, x, y, hue, weights, stat, bins, binwidth, binrange, discrete, cumulative, common_bins, common_norm, multiple, element, fill, shrink, kde, kde_kws, line_kws, thresh, pthresh, pmax, cbar, cbar_ax, cbar_kws, palette, hue_order, hue_norm, color, log_scale, legend, ax, **kwargs)\u001b[0m\n\u001b[0;32m   1451\u001b[0m estimate_kws \u001b[38;5;241m=\u001b[39m \u001b[38;5;28mdict\u001b[39m(\n\u001b[0;32m   1452\u001b[0m     stat\u001b[38;5;241m=\u001b[39mstat,\n\u001b[0;32m   1453\u001b[0m     bins\u001b[38;5;241m=\u001b[39mbins,\n\u001b[1;32m   (...)\u001b[0m\n\u001b[0;32m   1457\u001b[0m     cumulative\u001b[38;5;241m=\u001b[39mcumulative,\n\u001b[0;32m   1458\u001b[0m )\n\u001b[0;32m   1460\u001b[0m \u001b[38;5;28;01mif\u001b[39;00m p\u001b[38;5;241m.\u001b[39munivariate:\n\u001b[1;32m-> 1462\u001b[0m     p\u001b[38;5;241m.\u001b[39mplot_univariate_histogram(\n\u001b[0;32m   1463\u001b[0m         multiple\u001b[38;5;241m=\u001b[39mmultiple,\n\u001b[0;32m   1464\u001b[0m         element\u001b[38;5;241m=\u001b[39melement,\n\u001b[0;32m   1465\u001b[0m         fill\u001b[38;5;241m=\u001b[39mfill,\n\u001b[0;32m   1466\u001b[0m         shrink\u001b[38;5;241m=\u001b[39mshrink,\n\u001b[0;32m   1467\u001b[0m         common_norm\u001b[38;5;241m=\u001b[39mcommon_norm,\n\u001b[0;32m   1468\u001b[0m         common_bins\u001b[38;5;241m=\u001b[39mcommon_bins,\n\u001b[0;32m   1469\u001b[0m         kde\u001b[38;5;241m=\u001b[39mkde,\n\u001b[0;32m   1470\u001b[0m         kde_kws\u001b[38;5;241m=\u001b[39mkde_kws,\n\u001b[0;32m   1471\u001b[0m         color\u001b[38;5;241m=\u001b[39mcolor,\n\u001b[0;32m   1472\u001b[0m         legend\u001b[38;5;241m=\u001b[39mlegend,\n\u001b[0;32m   1473\u001b[0m         estimate_kws\u001b[38;5;241m=\u001b[39mestimate_kws,\n\u001b[0;32m   1474\u001b[0m         line_kws\u001b[38;5;241m=\u001b[39mline_kws,\n\u001b[0;32m   1475\u001b[0m         \u001b[38;5;241m*\u001b[39m\u001b[38;5;241m*\u001b[39mkwargs,\n\u001b[0;32m   1476\u001b[0m     )\n\u001b[0;32m   1478\u001b[0m \u001b[38;5;28;01melse\u001b[39;00m:\n\u001b[0;32m   1480\u001b[0m     p\u001b[38;5;241m.\u001b[39mplot_bivariate_histogram(\n\u001b[0;32m   1481\u001b[0m         common_bins\u001b[38;5;241m=\u001b[39mcommon_bins,\n\u001b[0;32m   1482\u001b[0m         common_norm\u001b[38;5;241m=\u001b[39mcommon_norm,\n\u001b[1;32m   (...)\u001b[0m\n\u001b[0;32m   1492\u001b[0m         \u001b[38;5;241m*\u001b[39m\u001b[38;5;241m*\u001b[39mkwargs,\n\u001b[0;32m   1493\u001b[0m     )\n",
      "File \u001b[1;32m~\\anaconda3\\lib\\site-packages\\seaborn\\distributions.py:418\u001b[0m, in \u001b[0;36m_DistributionPlotter.plot_univariate_histogram\u001b[1;34m(self, multiple, element, fill, common_norm, common_bins, shrink, kde, kde_kws, color, legend, line_kws, estimate_kws, **plot_kws)\u001b[0m\n\u001b[0;32m    416\u001b[0m     kde_kws[\u001b[38;5;124m\"\u001b[39m\u001b[38;5;124mcumulative\u001b[39m\u001b[38;5;124m\"\u001b[39m] \u001b[38;5;241m=\u001b[39m estimate_kws[\u001b[38;5;124m\"\u001b[39m\u001b[38;5;124mcumulative\u001b[39m\u001b[38;5;124m\"\u001b[39m]\n\u001b[0;32m    417\u001b[0m     log_scale \u001b[38;5;241m=\u001b[39m \u001b[38;5;28mself\u001b[39m\u001b[38;5;241m.\u001b[39m_log_scaled(\u001b[38;5;28mself\u001b[39m\u001b[38;5;241m.\u001b[39mdata_variable)\n\u001b[1;32m--> 418\u001b[0m     densities \u001b[38;5;241m=\u001b[39m \u001b[38;5;28;43mself\u001b[39;49m\u001b[38;5;241;43m.\u001b[39;49m\u001b[43m_compute_univariate_density\u001b[49m\u001b[43m(\u001b[49m\n\u001b[0;32m    419\u001b[0m \u001b[43m        \u001b[49m\u001b[38;5;28;43mself\u001b[39;49m\u001b[38;5;241;43m.\u001b[39;49m\u001b[43mdata_variable\u001b[49m\u001b[43m,\u001b[49m\n\u001b[0;32m    420\u001b[0m \u001b[43m        \u001b[49m\u001b[43mcommon_norm\u001b[49m\u001b[43m,\u001b[49m\n\u001b[0;32m    421\u001b[0m \u001b[43m        \u001b[49m\u001b[43mcommon_bins\u001b[49m\u001b[43m,\u001b[49m\n\u001b[0;32m    422\u001b[0m \u001b[43m        \u001b[49m\u001b[43mkde_kws\u001b[49m\u001b[43m,\u001b[49m\n\u001b[0;32m    423\u001b[0m \u001b[43m        \u001b[49m\u001b[43mlog_scale\u001b[49m\u001b[43m,\u001b[49m\n\u001b[0;32m    424\u001b[0m \u001b[43m        \u001b[49m\u001b[43mwarn_singular\u001b[49m\u001b[38;5;241;43m=\u001b[39;49m\u001b[38;5;28;43;01mFalse\u001b[39;49;00m\u001b[43m,\u001b[49m\n\u001b[0;32m    425\u001b[0m \u001b[43m    \u001b[49m\u001b[43m)\u001b[49m\n\u001b[0;32m    427\u001b[0m \u001b[38;5;66;03m# First pass through the data to compute the histograms\u001b[39;00m\n\u001b[0;32m    428\u001b[0m \u001b[38;5;28;01mfor\u001b[39;00m sub_vars, sub_data \u001b[38;5;129;01min\u001b[39;00m \u001b[38;5;28mself\u001b[39m\u001b[38;5;241m.\u001b[39miter_data(\u001b[38;5;124m\"\u001b[39m\u001b[38;5;124mhue\u001b[39m\u001b[38;5;124m\"\u001b[39m, from_comp_data\u001b[38;5;241m=\u001b[39m\u001b[38;5;28;01mTrue\u001b[39;00m):\n\u001b[0;32m    429\u001b[0m \n\u001b[0;32m    430\u001b[0m     \u001b[38;5;66;03m# Prepare the relevant data\u001b[39;00m\n",
      "File \u001b[1;32m~\\anaconda3\\lib\\site-packages\\seaborn\\distributions.py:326\u001b[0m, in \u001b[0;36m_DistributionPlotter._compute_univariate_density\u001b[1;34m(self, data_variable, common_norm, common_grid, estimate_kws, log_scale, warn_singular)\u001b[0m\n\u001b[0;32m    323\u001b[0m     weights \u001b[38;5;241m=\u001b[39m \u001b[38;5;28;01mNone\u001b[39;00m\n\u001b[0;32m    325\u001b[0m \u001b[38;5;66;03m# Estimate the density of observations at this level\u001b[39;00m\n\u001b[1;32m--> 326\u001b[0m density, support \u001b[38;5;241m=\u001b[39m \u001b[43mestimator\u001b[49m\u001b[43m(\u001b[49m\u001b[43mobservations\u001b[49m\u001b[43m,\u001b[49m\u001b[43m \u001b[49m\u001b[43mweights\u001b[49m\u001b[38;5;241;43m=\u001b[39;49m\u001b[43mweights\u001b[49m\u001b[43m)\u001b[49m\n\u001b[0;32m    328\u001b[0m \u001b[38;5;28;01mif\u001b[39;00m log_scale:\n\u001b[0;32m    329\u001b[0m     support \u001b[38;5;241m=\u001b[39m np\u001b[38;5;241m.\u001b[39mpower(\u001b[38;5;241m10\u001b[39m, support)\n",
      "File \u001b[1;32m~\\anaconda3\\lib\\site-packages\\seaborn\\_statistics.py:187\u001b[0m, in \u001b[0;36mKDE.__call__\u001b[1;34m(self, x1, x2, weights)\u001b[0m\n\u001b[0;32m    185\u001b[0m \u001b[38;5;250m\u001b[39m\u001b[38;5;124;03m\"\"\"Fit and evaluate on univariate or bivariate data.\"\"\"\u001b[39;00m\n\u001b[0;32m    186\u001b[0m \u001b[38;5;28;01mif\u001b[39;00m x2 \u001b[38;5;129;01mis\u001b[39;00m \u001b[38;5;28;01mNone\u001b[39;00m:\n\u001b[1;32m--> 187\u001b[0m     \u001b[38;5;28;01mreturn\u001b[39;00m \u001b[38;5;28;43mself\u001b[39;49m\u001b[38;5;241;43m.\u001b[39;49m\u001b[43m_eval_univariate\u001b[49m\u001b[43m(\u001b[49m\u001b[43mx1\u001b[49m\u001b[43m,\u001b[49m\u001b[43m \u001b[49m\u001b[43mweights\u001b[49m\u001b[43m)\u001b[49m\n\u001b[0;32m    188\u001b[0m \u001b[38;5;28;01melse\u001b[39;00m:\n\u001b[0;32m    189\u001b[0m     \u001b[38;5;28;01mreturn\u001b[39;00m \u001b[38;5;28mself\u001b[39m\u001b[38;5;241m.\u001b[39m_eval_bivariate(x1, x2, weights)\n",
      "File \u001b[1;32m~\\anaconda3\\lib\\site-packages\\seaborn\\_statistics.py:146\u001b[0m, in \u001b[0;36mKDE._eval_univariate\u001b[1;34m(self, x, weights)\u001b[0m\n\u001b[0;32m    144\u001b[0m support \u001b[38;5;241m=\u001b[39m \u001b[38;5;28mself\u001b[39m\u001b[38;5;241m.\u001b[39msupport\n\u001b[0;32m    145\u001b[0m \u001b[38;5;28;01mif\u001b[39;00m support \u001b[38;5;129;01mis\u001b[39;00m \u001b[38;5;28;01mNone\u001b[39;00m:\n\u001b[1;32m--> 146\u001b[0m     support \u001b[38;5;241m=\u001b[39m \u001b[38;5;28;43mself\u001b[39;49m\u001b[38;5;241;43m.\u001b[39;49m\u001b[43mdefine_support\u001b[49m\u001b[43m(\u001b[49m\u001b[43mx\u001b[49m\u001b[43m,\u001b[49m\u001b[43m \u001b[49m\u001b[43mcache\u001b[49m\u001b[38;5;241;43m=\u001b[39;49m\u001b[38;5;28;43;01mFalse\u001b[39;49;00m\u001b[43m)\u001b[49m\n\u001b[0;32m    148\u001b[0m kde \u001b[38;5;241m=\u001b[39m \u001b[38;5;28mself\u001b[39m\u001b[38;5;241m.\u001b[39m_fit(x, weights)\n\u001b[0;32m    150\u001b[0m \u001b[38;5;28;01mif\u001b[39;00m \u001b[38;5;28mself\u001b[39m\u001b[38;5;241m.\u001b[39mcumulative:\n",
      "File \u001b[1;32m~\\anaconda3\\lib\\site-packages\\seaborn\\_statistics.py:119\u001b[0m, in \u001b[0;36mKDE.define_support\u001b[1;34m(self, x1, x2, weights, cache)\u001b[0m\n\u001b[0;32m    117\u001b[0m \u001b[38;5;250m\u001b[39m\u001b[38;5;124;03m\"\"\"Create the evaluation grid for a given data set.\"\"\"\u001b[39;00m\n\u001b[0;32m    118\u001b[0m \u001b[38;5;28;01mif\u001b[39;00m x2 \u001b[38;5;129;01mis\u001b[39;00m \u001b[38;5;28;01mNone\u001b[39;00m:\n\u001b[1;32m--> 119\u001b[0m     support \u001b[38;5;241m=\u001b[39m \u001b[38;5;28;43mself\u001b[39;49m\u001b[38;5;241;43m.\u001b[39;49m\u001b[43m_define_support_univariate\u001b[49m\u001b[43m(\u001b[49m\u001b[43mx1\u001b[49m\u001b[43m,\u001b[49m\u001b[43m \u001b[49m\u001b[43mweights\u001b[49m\u001b[43m)\u001b[49m\n\u001b[0;32m    120\u001b[0m \u001b[38;5;28;01melse\u001b[39;00m:\n\u001b[0;32m    121\u001b[0m     support \u001b[38;5;241m=\u001b[39m \u001b[38;5;28mself\u001b[39m\u001b[38;5;241m.\u001b[39m_define_support_bivariate(x1, x2, weights)\n",
      "File \u001b[1;32m~\\anaconda3\\lib\\site-packages\\seaborn\\_statistics.py:91\u001b[0m, in \u001b[0;36mKDE._define_support_univariate\u001b[1;34m(self, x, weights)\u001b[0m\n\u001b[0;32m     89\u001b[0m \u001b[38;5;28;01mdef\u001b[39;00m \u001b[38;5;21m_define_support_univariate\u001b[39m(\u001b[38;5;28mself\u001b[39m, x, weights):\n\u001b[0;32m     90\u001b[0m \u001b[38;5;250m    \u001b[39m\u001b[38;5;124;03m\"\"\"Create a 1D grid of evaluation points.\"\"\"\u001b[39;00m\n\u001b[1;32m---> 91\u001b[0m     kde \u001b[38;5;241m=\u001b[39m \u001b[38;5;28;43mself\u001b[39;49m\u001b[38;5;241;43m.\u001b[39;49m\u001b[43m_fit\u001b[49m\u001b[43m(\u001b[49m\u001b[43mx\u001b[49m\u001b[43m,\u001b[49m\u001b[43m \u001b[49m\u001b[43mweights\u001b[49m\u001b[43m)\u001b[49m\n\u001b[0;32m     92\u001b[0m     bw \u001b[38;5;241m=\u001b[39m np\u001b[38;5;241m.\u001b[39msqrt(kde\u001b[38;5;241m.\u001b[39mcovariance\u001b[38;5;241m.\u001b[39msqueeze())\n\u001b[0;32m     93\u001b[0m     grid \u001b[38;5;241m=\u001b[39m \u001b[38;5;28mself\u001b[39m\u001b[38;5;241m.\u001b[39m_define_support_grid(\n\u001b[0;32m     94\u001b[0m         x, bw, \u001b[38;5;28mself\u001b[39m\u001b[38;5;241m.\u001b[39mcut, \u001b[38;5;28mself\u001b[39m\u001b[38;5;241m.\u001b[39mclip, \u001b[38;5;28mself\u001b[39m\u001b[38;5;241m.\u001b[39mgridsize\n\u001b[0;32m     95\u001b[0m     )\n",
      "File \u001b[1;32m~\\anaconda3\\lib\\site-packages\\seaborn\\_statistics.py:137\u001b[0m, in \u001b[0;36mKDE._fit\u001b[1;34m(self, fit_data, weights)\u001b[0m\n\u001b[0;32m    134\u001b[0m         \u001b[38;5;28;01mraise\u001b[39;00m \u001b[38;5;167;01mRuntimeError\u001b[39;00m(msg)\n\u001b[0;32m    135\u001b[0m     fit_kws[\u001b[38;5;124m\"\u001b[39m\u001b[38;5;124mweights\u001b[39m\u001b[38;5;124m\"\u001b[39m] \u001b[38;5;241m=\u001b[39m weights\n\u001b[1;32m--> 137\u001b[0m kde \u001b[38;5;241m=\u001b[39m stats\u001b[38;5;241m.\u001b[39mgaussian_kde(fit_data, \u001b[38;5;241m*\u001b[39m\u001b[38;5;241m*\u001b[39mfit_kws)\n\u001b[0;32m    138\u001b[0m kde\u001b[38;5;241m.\u001b[39mset_bandwidth(kde\u001b[38;5;241m.\u001b[39mfactor \u001b[38;5;241m*\u001b[39m \u001b[38;5;28mself\u001b[39m\u001b[38;5;241m.\u001b[39mbw_adjust)\n\u001b[0;32m    140\u001b[0m \u001b[38;5;28;01mreturn\u001b[39;00m kde\n",
      "File \u001b[1;32m~\\anaconda3\\lib\\site-packages\\scipy\\stats\\kde.py:206\u001b[0m, in \u001b[0;36mgaussian_kde.__init__\u001b[1;34m(self, dataset, bw_method, weights)\u001b[0m\n\u001b[0;32m    203\u001b[0m         \u001b[38;5;28;01mraise\u001b[39;00m \u001b[38;5;167;01mValueError\u001b[39;00m(\u001b[38;5;124m\"\u001b[39m\u001b[38;5;124m`weights` input should be of length n\u001b[39m\u001b[38;5;124m\"\u001b[39m)\n\u001b[0;32m    204\u001b[0m     \u001b[38;5;28mself\u001b[39m\u001b[38;5;241m.\u001b[39m_neff \u001b[38;5;241m=\u001b[39m \u001b[38;5;241m1\u001b[39m\u001b[38;5;241m/\u001b[39m\u001b[38;5;28msum\u001b[39m(\u001b[38;5;28mself\u001b[39m\u001b[38;5;241m.\u001b[39m_weights\u001b[38;5;241m*\u001b[39m\u001b[38;5;241m*\u001b[39m\u001b[38;5;241m2\u001b[39m)\n\u001b[1;32m--> 206\u001b[0m \u001b[38;5;28;43mself\u001b[39;49m\u001b[38;5;241;43m.\u001b[39;49m\u001b[43mset_bandwidth\u001b[49m\u001b[43m(\u001b[49m\u001b[43mbw_method\u001b[49m\u001b[38;5;241;43m=\u001b[39;49m\u001b[43mbw_method\u001b[49m\u001b[43m)\u001b[49m\n",
      "File \u001b[1;32m~\\anaconda3\\lib\\site-packages\\scipy\\stats\\kde.py:554\u001b[0m, in \u001b[0;36mgaussian_kde.set_bandwidth\u001b[1;34m(self, bw_method)\u001b[0m\n\u001b[0;32m    550\u001b[0m     msg \u001b[38;5;241m=\u001b[39m \u001b[38;5;124m\"\u001b[39m\u001b[38;5;124m`bw_method` should be \u001b[39m\u001b[38;5;124m'\u001b[39m\u001b[38;5;124mscott\u001b[39m\u001b[38;5;124m'\u001b[39m\u001b[38;5;124m, \u001b[39m\u001b[38;5;124m'\u001b[39m\u001b[38;5;124msilverman\u001b[39m\u001b[38;5;124m'\u001b[39m\u001b[38;5;124m, a scalar \u001b[39m\u001b[38;5;124m\"\u001b[39m \\\n\u001b[0;32m    551\u001b[0m           \u001b[38;5;124m\"\u001b[39m\u001b[38;5;124mor a callable.\u001b[39m\u001b[38;5;124m\"\u001b[39m\n\u001b[0;32m    552\u001b[0m     \u001b[38;5;28;01mraise\u001b[39;00m \u001b[38;5;167;01mValueError\u001b[39;00m(msg)\n\u001b[1;32m--> 554\u001b[0m \u001b[38;5;28;43mself\u001b[39;49m\u001b[38;5;241;43m.\u001b[39;49m\u001b[43m_compute_covariance\u001b[49m\u001b[43m(\u001b[49m\u001b[43m)\u001b[49m\n",
      "File \u001b[1;32m~\\anaconda3\\lib\\site-packages\\scipy\\stats\\kde.py:566\u001b[0m, in \u001b[0;36mgaussian_kde._compute_covariance\u001b[1;34m(self)\u001b[0m\n\u001b[0;32m    562\u001b[0m \u001b[38;5;28;01mif\u001b[39;00m \u001b[38;5;129;01mnot\u001b[39;00m \u001b[38;5;28mhasattr\u001b[39m(\u001b[38;5;28mself\u001b[39m, \u001b[38;5;124m'\u001b[39m\u001b[38;5;124m_data_inv_cov\u001b[39m\u001b[38;5;124m'\u001b[39m):\n\u001b[0;32m    563\u001b[0m     \u001b[38;5;28mself\u001b[39m\u001b[38;5;241m.\u001b[39m_data_covariance \u001b[38;5;241m=\u001b[39m atleast_2d(cov(\u001b[38;5;28mself\u001b[39m\u001b[38;5;241m.\u001b[39mdataset, rowvar\u001b[38;5;241m=\u001b[39m\u001b[38;5;241m1\u001b[39m,\n\u001b[0;32m    564\u001b[0m                                        bias\u001b[38;5;241m=\u001b[39m\u001b[38;5;28;01mFalse\u001b[39;00m,\n\u001b[0;32m    565\u001b[0m                                        aweights\u001b[38;5;241m=\u001b[39m\u001b[38;5;28mself\u001b[39m\u001b[38;5;241m.\u001b[39mweights))\n\u001b[1;32m--> 566\u001b[0m     \u001b[38;5;28mself\u001b[39m\u001b[38;5;241m.\u001b[39m_data_inv_cov \u001b[38;5;241m=\u001b[39m \u001b[43mlinalg\u001b[49m\u001b[38;5;241;43m.\u001b[39;49m\u001b[43minv\u001b[49m\u001b[43m(\u001b[49m\u001b[38;5;28;43mself\u001b[39;49m\u001b[38;5;241;43m.\u001b[39;49m\u001b[43m_data_covariance\u001b[49m\u001b[43m)\u001b[49m\n\u001b[0;32m    568\u001b[0m \u001b[38;5;28mself\u001b[39m\u001b[38;5;241m.\u001b[39mcovariance \u001b[38;5;241m=\u001b[39m \u001b[38;5;28mself\u001b[39m\u001b[38;5;241m.\u001b[39m_data_covariance \u001b[38;5;241m*\u001b[39m \u001b[38;5;28mself\u001b[39m\u001b[38;5;241m.\u001b[39mfactor\u001b[38;5;241m*\u001b[39m\u001b[38;5;241m*\u001b[39m\u001b[38;5;241m2\u001b[39m\n\u001b[0;32m    569\u001b[0m \u001b[38;5;28mself\u001b[39m\u001b[38;5;241m.\u001b[39minv_cov \u001b[38;5;241m=\u001b[39m \u001b[38;5;28mself\u001b[39m\u001b[38;5;241m.\u001b[39m_data_inv_cov \u001b[38;5;241m/\u001b[39m \u001b[38;5;28mself\u001b[39m\u001b[38;5;241m.\u001b[39mfactor\u001b[38;5;241m*\u001b[39m\u001b[38;5;241m*\u001b[39m\u001b[38;5;241m2\u001b[39m\n",
      "File \u001b[1;32m~\\anaconda3\\lib\\site-packages\\scipy\\linalg\\basic.py:939\u001b[0m, in \u001b[0;36minv\u001b[1;34m(a, overwrite_a, check_finite)\u001b[0m\n\u001b[0;32m    900\u001b[0m \u001b[38;5;28;01mdef\u001b[39;00m \u001b[38;5;21minv\u001b[39m(a, overwrite_a\u001b[38;5;241m=\u001b[39m\u001b[38;5;28;01mFalse\u001b[39;00m, check_finite\u001b[38;5;241m=\u001b[39m\u001b[38;5;28;01mTrue\u001b[39;00m):\n\u001b[0;32m    901\u001b[0m \u001b[38;5;250m    \u001b[39m\u001b[38;5;124;03m\"\"\"\u001b[39;00m\n\u001b[0;32m    902\u001b[0m \u001b[38;5;124;03m    Compute the inverse of a matrix.\u001b[39;00m\n\u001b[0;32m    903\u001b[0m \n\u001b[1;32m   (...)\u001b[0m\n\u001b[0;32m    937\u001b[0m \n\u001b[0;32m    938\u001b[0m \u001b[38;5;124;03m    \"\"\"\u001b[39;00m\n\u001b[1;32m--> 939\u001b[0m     a1 \u001b[38;5;241m=\u001b[39m \u001b[43m_asarray_validated\u001b[49m\u001b[43m(\u001b[49m\u001b[43ma\u001b[49m\u001b[43m,\u001b[49m\u001b[43m \u001b[49m\u001b[43mcheck_finite\u001b[49m\u001b[38;5;241;43m=\u001b[39;49m\u001b[43mcheck_finite\u001b[49m\u001b[43m)\u001b[49m\n\u001b[0;32m    940\u001b[0m     \u001b[38;5;28;01mif\u001b[39;00m \u001b[38;5;28mlen\u001b[39m(a1\u001b[38;5;241m.\u001b[39mshape) \u001b[38;5;241m!=\u001b[39m \u001b[38;5;241m2\u001b[39m \u001b[38;5;129;01mor\u001b[39;00m a1\u001b[38;5;241m.\u001b[39mshape[\u001b[38;5;241m0\u001b[39m] \u001b[38;5;241m!=\u001b[39m a1\u001b[38;5;241m.\u001b[39mshape[\u001b[38;5;241m1\u001b[39m]:\n\u001b[0;32m    941\u001b[0m         \u001b[38;5;28;01mraise\u001b[39;00m \u001b[38;5;167;01mValueError\u001b[39;00m(\u001b[38;5;124m'\u001b[39m\u001b[38;5;124mexpected square matrix\u001b[39m\u001b[38;5;124m'\u001b[39m)\n",
      "File \u001b[1;32m~\\anaconda3\\lib\\site-packages\\scipy\\_lib\\_util.py:296\u001b[0m, in \u001b[0;36m_asarray_validated\u001b[1;34m(a, check_finite, sparse_ok, objects_ok, mask_ok, as_inexact)\u001b[0m\n\u001b[0;32m    294\u001b[0m \u001b[38;5;28;01mif\u001b[39;00m \u001b[38;5;129;01mnot\u001b[39;00m objects_ok:\n\u001b[0;32m    295\u001b[0m     \u001b[38;5;28;01mif\u001b[39;00m a\u001b[38;5;241m.\u001b[39mdtype \u001b[38;5;129;01mis\u001b[39;00m np\u001b[38;5;241m.\u001b[39mdtype(\u001b[38;5;124m'\u001b[39m\u001b[38;5;124mO\u001b[39m\u001b[38;5;124m'\u001b[39m):\n\u001b[1;32m--> 296\u001b[0m         \u001b[38;5;28;01mraise\u001b[39;00m \u001b[38;5;167;01mValueError\u001b[39;00m(\u001b[38;5;124m'\u001b[39m\u001b[38;5;124mobject arrays are not supported\u001b[39m\u001b[38;5;124m'\u001b[39m)\n\u001b[0;32m    297\u001b[0m \u001b[38;5;28;01mif\u001b[39;00m as_inexact:\n\u001b[0;32m    298\u001b[0m     \u001b[38;5;28;01mif\u001b[39;00m \u001b[38;5;129;01mnot\u001b[39;00m np\u001b[38;5;241m.\u001b[39missubdtype(a\u001b[38;5;241m.\u001b[39mdtype, np\u001b[38;5;241m.\u001b[39minexact):\n",
      "\u001b[1;31mValueError\u001b[0m: object arrays are not supported"
     ]
    },
    {
     "data": {
      "image/png": "[encoded data removed]",
      "text/plain": [
       "<Figure size 432x288 with 1 Axes>"
      ]
     },
     "metadata": {
      "needs_background": "light"
     },
     "output_type": "display_data"
    }
   ],
   "source": [
    "import seaborn as sns\n",
    "import matplotlib.pyplot as plt\n",
    "plt.figure(figsize=(7,5))\n",
    "x=0\n",
    "for i in numerical_columns:\n",
    "    sns.histplot(data=df,x=i,kde=True)\n",
    "    print(\"\\n\")\n",
    "    plt.show()"
   ]
  },
  {
   "cell_type": "code",
   "execution_count": 20,
   "id": "aaecadb9",
   "metadata": {},
   "outputs": [
    {
     "name": "stdout",
     "output_type": "stream",
     "text": [
      "\n",
      "\n"
     ]
    },
    {
     "data": {
      "image/png": "[encoded data removed]",
      "text/plain": [
       "<Figure size 504x360 with 1 Axes>"
      ]
     },
     "metadata": {
      "needs_background": "light"
     },
     "output_type": "display_data"
    },
    {
     "name": "stdout",
     "output_type": "stream",
     "text": [
      "\n",
      "\n"
     ]
    },
    {
     "data": {
      "image/png": "[encoded data removed]",
      "text/plain": [
       "<Figure size 432x288 with 1 Axes>"
      ]
     },
     "metadata": {
      "needs_background": "light"
     },
     "output_type": "display_data"
    },
    {
     "name": "stdout",
     "output_type": "stream",
     "text": [
      "\n",
      "\n"
     ]
    },
    {
     "data": {
      "image/png": "[encoded data removed]",
      "text/plain": [
       "<Figure size 432x288 with 1 Axes>"
      ]
     },
     "metadata": {
      "needs_background": "light"
     },
     "output_type": "display_data"
    },
    {
     "name": "stdout",
     "output_type": "stream",
     "text": [
      "\n",
      "\n"
     ]
    },
    {
     "data": {
      "image/png": "[encoded data removed]",
      "text/plain": [
       "<Figure size 432x288 with 1 Axes>"
      ]
     },
     "metadata": {
      "needs_background": "light"
     },
     "output_type": "display_data"
    },
    {
     "name": "stdout",
     "output_type": "stream",
     "text": [
      "\n",
      "\n"
     ]
    },
    {
     "data": {
      "image/png": "[encoded data removed]",
      "text/plain": [
       "<Figure size 432x288 with 1 Axes>"
      ]
     },
     "metadata": {
      "needs_background": "light"
     },
     "output_type": "display_data"
    },
    {
     "name": "stdout",
     "output_type": "stream",
     "text": [
      "\n",
      "\n"
     ]
    },
    {
     "data": {
      "image/png": "[encoded data removed]",
      "text/plain": [
       "<Figure size 432x288 with 1 Axes>"
      ]
     },
     "metadata": {
      "needs_background": "light"
     },
     "output_type": "display_data"
    },
    {
     "name": "stdout",
     "output_type": "stream",
     "text": [
      "\n",
      "\n"
     ]
    },
    {
     "data": {
      "image/png": "[encoded data removed]",
      "text/plain": [
       "<Figure size 432x288 with 1 Axes>"
      ]
     },
     "metadata": {
      "needs_background": "light"
     },
     "output_type": "display_data"
    }
   ],
   "source": [
    "import seaborn as sns\n",
    "import matplotlib.pyplot as plt\n",
    "plt.figure(figsize=(7,5))\n",
    "x=0\n",
    "for i in categorical_columns:\n",
    "    sns.countplot(x=df[i],hue=df.Transported)\n",
    "    print(\"\\n\")\n",
    "    plt.show()"
   ]
  },
  {
   "cell_type": "code",
   "execution_count": null,
   "id": "d33aaddf",
   "metadata": {},
   "outputs": [],
   "source": []
  },
  {
   "cell_type": "code",
   "execution_count": null,
   "id": "b03ade57",
   "metadata": {},
   "outputs": [],
   "source": []
  }
 ],
 "metadata": {
  "kernelspec": {
   "display_name": "Python 3 (ipykernel)",
   "language": "python",
   "name": "python3"
  },
  "language_info": {
   "codemirror_mode": {
    "name": "ipython",
    "version": 3
   },
   "file_extension": ".py",
   "mimetype": "text/x-python",
   "name": "python",
   "nbconvert_exporter": "python",
   "pygments_lexer": "ipython3",
   "version": "3.9.12"
  }
 },
 "nbformat": 4,
 "nbformat_minor": 5
}
